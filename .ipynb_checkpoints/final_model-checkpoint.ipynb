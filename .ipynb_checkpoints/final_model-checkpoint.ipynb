{
 "cells": [
  {
   "cell_type": "code",
   "execution_count": 1,
   "id": "d73abdfd",
   "metadata": {},
   "outputs": [],
   "source": [
    "import copy\n",
    "import datetime\n",
    "import gc\n",
    "import geopandas as gpd\n",
    "import matplotlib.pyplot as plt\n",
    "import numpy as np\n",
    "import os\n",
    "import torch\n",
    "import torch.nn as nn\n",
    "import torch.nn.functional as F\n",
    "\n",
    "from scipy.io import loadmat, savemat\n",
    "from shapely.geometry import Point\n",
    "from sklearn.model_selection import train_test_split\n",
    "from torch.optim.lr_scheduler import StepLR\n",
    "from torch.utils.data import TensorDataset, DataLoader\n",
    "from torch.utils.tensorboard import SummaryWriter\n",
    "from torchinfo import summary\n",
    "\n",
    "%matplotlib inline"
   ]
  },
  {
   "cell_type": "markdown",
   "id": "a4e8ccfb",
   "metadata": {},
   "source": [
    "## Preparation"
   ]
  },
  {
   "cell_type": "markdown",
   "id": "e2a5decf",
   "metadata": {},
   "source": [
    "Set seeds for reproducability"
   ]
  },
  {
   "cell_type": "code",
   "execution_count": 2,
   "id": "a35207a3",
   "metadata": {},
   "outputs": [],
   "source": [
    "random_seed = 1\n",
    "torch.manual_seed(random_seed)\n",
    "torch.cuda.manual_seed(random_seed)\n",
    "torch.backends.cudnn.benchmark = False\n",
    "np.random.seed(random_seed)"
   ]
  },
  {
   "cell_type": "markdown",
   "id": "4dcd2871",
   "metadata": {},
   "source": [
    "Set device"
   ]
  },
  {
   "cell_type": "code",
   "execution_count": 3,
   "id": "daba7031",
   "metadata": {},
   "outputs": [],
   "source": [
    "gc.collect()\n",
    "torch.cuda.empty_cache()\n",
    "# device = torch.device('cuda') if torch.cuda.is_available() else torch.device('cpu')\n",
    "device = torch.device('cpu')"
   ]
  },
  {
   "cell_type": "markdown",
   "id": "57b76375",
   "metadata": {},
   "source": [
    "## Load and preprocess data"
   ]
  },
  {
   "cell_type": "markdown",
   "id": "f6d6d370",
   "metadata": {},
   "source": [
    "Set paths to training data"
   ]
  },
  {
   "cell_type": "code",
   "execution_count": 4,
   "id": "3ead603c",
   "metadata": {},
   "outputs": [],
   "source": [
    "dspl_path = '/home/alexrichard/LRZ Sync+Share/ML in Physics/DL-TFM-main/train/trainData104/foo_dspl'\n",
    "dsplRadial_path = '/home/alexrichard/LRZ Sync+Share/ML in Physics/DL-TFM-main/train/trainData104/foo_dsplRadial'\n",
    "trac_path = '/home/alexrichard/LRZ Sync+Share/ML in Physics/DL-TFM-main/train/trainData104/foo_trac'\n",
    "tracRadial_path = '/home/alexrichard/LRZ Sync+Share/ML in Physics/DL-TFM-main/train/trainData104/foo_tracRadial'"
   ]
  },
  {
   "cell_type": "code",
   "execution_count": 5,
   "id": "e50e0c4c",
   "metadata": {},
   "outputs": [],
   "source": [
    "def data_to_npArrays(dspl_path, dsplRadial_path, trac_path, tracRadial_path):\n",
    "    number_samples = len([name for name in os.listdir(dspl_path) if os.path.isfile(os.path.join(dspl_path, name))])\n",
    "    number_radials = len([name for name in os.listdir(dsplRadial_path) if os.path.isfile(os.path.join(dsplRadial_path, name))])\n",
    "    \n",
    "    # save all samples in matrix\n",
    "    samples = [] \n",
    "    for i, filename in enumerate(os.listdir(dspl_path)):\n",
    "        f = os.path.join(dspl_path, filename)\n",
    "        if os.path.isfile(f):\n",
    "            sample = loadmat(f)\n",
    "            if '__header__' in sample: del sample['__header__']\n",
    "            if '__version__' in sample: del sample['__version__']\n",
    "            if '__globals__' in sample: del sample['__globals__']\n",
    "            sample['name'] = filename\n",
    "            samples = np.append(samples, sample)\n",
    "        else:\n",
    "            continue\n",
    "    samples = np.array(samples)\n",
    "\n",
    "    # save all radial patterns of displacements in matrix\n",
    "    dspl_radials = []\n",
    "    for i, filename in enumerate(os.listdir(dsplRadial_path)):\n",
    "        f = os.path.join(dsplRadial_path, filename)\n",
    "        if os.path.isfile(f):\n",
    "            radial = loadmat(f)\n",
    "            if '__header__' in radial: del radial['__header__']\n",
    "            if '__version__' in radial: del radial['__version__']\n",
    "            if '__globals__' in radial: del radial['__globals__']\n",
    "            radial['name'] = filename\n",
    "            dspl_radials = np.append(dspl_radials, radial)\n",
    "        else:\n",
    "            continue\n",
    "    dspl_radials = np.array(dspl_radials)\n",
    "    \n",
    "    # save all targets in matrix\n",
    "    targets = []\n",
    "    for i, filename in enumerate(os.listdir(trac_path)):\n",
    "        f = os.path.join(trac_path, filename)\n",
    "        if os.path.isfile(f):\n",
    "            target = loadmat(f)\n",
    "            if '__header__' in target: del target['__header__']\n",
    "            if '__version__' in target: del target['__version__']\n",
    "            if '__globals__' in target: del target['__globals__']\n",
    "            target['name'] = filename\n",
    "            targets = np.append(targets, target)\n",
    "        else:\n",
    "            continue \n",
    "    targets = np.array(targets)\n",
    "    \n",
    "    # save all radial patterns of traction forces in matrix\n",
    "    trac_radials = []\n",
    "    for i, filename in enumerate(os.listdir(tracRadial_path)):\n",
    "        f = os.path.join(tracRadial_path, filename)\n",
    "        if os.path.isfile(f):\n",
    "            radial = loadmat(f)\n",
    "            if '__header__' in radial: del radial['__header__']\n",
    "            if '__version__' in radial: del radial['__version__']\n",
    "            if '__globals__' in radial: del radial['__globals__']\n",
    "            radial['name'] = filename\n",
    "            trac_radials = np.append(trac_radials, radial)\n",
    "        else:\n",
    "            continue\n",
    "    trac_radials = np.array(trac_radials)\n",
    "\n",
    "    return samples, dspl_radials, targets, trac_radials"
   ]
  },
  {
   "cell_type": "markdown",
   "id": "ad67fe34",
   "metadata": {},
   "source": [
    "Create numpy arrays for samples and targets"
   ]
  },
  {
   "cell_type": "code",
   "execution_count": 6,
   "id": "21a7f985",
   "metadata": {},
   "outputs": [],
   "source": [
    "samples, dspl_radials, targets, trac_radials = data_to_npArrays(dspl_path, dsplRadial_path, trac_path, tracRadial_path)"
   ]
  },
  {
   "cell_type": "markdown",
   "id": "35841a7b",
   "metadata": {},
   "source": [
    "Split training data into train and validation set using stratified samples"
   ]
  },
  {
   "cell_type": "code",
   "execution_count": 7,
   "id": "c1b48cd6",
   "metadata": {},
   "outputs": [],
   "source": [
    "radial_X_train, radial_X_val, radial_y_train, radial_y_val = train_test_split(dspl_radials, trac_radials, test_size=0.1, random_state=1)\n",
    "X_train, X_val, y_train, y_val = train_test_split(samples, targets, test_size=0.05, random_state=0)\n",
    "X_train, X_val, y_train, y_val = np.append(radial_X_train, X_train), np.append(radial_X_val, X_val), np.append(radial_y_train, y_train), np.append(radial_y_val, y_val)"
   ]
  },
  {
   "cell_type": "markdown",
   "id": "62f15a0d",
   "metadata": {},
   "source": [
    "Extract displacement and traction fields from the training data and reshape to (samples, channels, depth, heigth, width)"
   ]
  },
  {
   "cell_type": "code",
   "execution_count": 8,
   "id": "2f68b2ab",
   "metadata": {},
   "outputs": [],
   "source": [
    "X_train, X_val, y_train, y_val = np.array([sample['dspl'] for sample in X_train]), np.array([sample['dspl'] for sample in X_val]), np.array([target['trac'] for target in y_train]), np.array([target['trac'] for target in y_val])\n",
    "# Reshape to (samples, channels, depth, height, width)\n",
    "X_train = np.moveaxis(X_train[:, np.newaxis], [2, 3, 4], [-1, 3, 2])\n",
    "X_val = np.moveaxis(X_val[:, np.newaxis], [2, 3, 4], [-1, 3, 2])\n",
    "y_train = np.moveaxis(y_train[:, np.newaxis], [2, 3, 4], [-1, 3, 2])\n",
    "y_val = np.moveaxis(y_val[:, np.newaxis], [2, 3, 4], [-1, 3, 2])"
   ]
  },
  {
   "cell_type": "markdown",
   "id": "add172fc",
   "metadata": {},
   "source": [
    "Normalize training data"
   ]
  },
  {
   "cell_type": "code",
   "execution_count": 9,
   "id": "233af2b3",
   "metadata": {},
   "outputs": [],
   "source": [
    "#x_min = X.min(axis=(3, 4), keepdims=True)\n",
    "#x_max = X.max(axis=(3, 4), keepdims=True)\n",
    "#X = (X - x_min)/(x_max-x_min)\n",
    "\n",
    "#y_min = y.min(axis=(3, 4), keepdims=True)\n",
    "#y_max = y.max(axis=(3, 4), keepdims=True)\n",
    "#y = (y - y_min)/(y_max-y_min)"
   ]
  },
  {
   "cell_type": "markdown",
   "id": "e347a2ed",
   "metadata": {},
   "source": [
    "Convert train and validation data to Pytorch tensors"
   ]
  },
  {
   "cell_type": "code",
   "execution_count": 10,
   "id": "57aa8b73",
   "metadata": {},
   "outputs": [],
   "source": [
    "X_train = torch.from_numpy(X_train).double()\n",
    "X_val = torch.from_numpy(X_val).double()\n",
    "y_train = torch.from_numpy(y_train).double()\n",
    "y_val = torch.from_numpy(y_val).double()"
   ]
  },
  {
   "cell_type": "code",
   "execution_count": 11,
   "id": "dac94f77",
   "metadata": {},
   "outputs": [],
   "source": [
    "train_set = TensorDataset(X_train, y_train)\n",
    "val_set = TensorDataset(X_val, y_val)\n",
    "\n",
    "batch_size = 16\n",
    "\n",
    "dataloaders = {}\n",
    "dataloaders['train'] = DataLoader(train_set, batch_size=batch_size, shuffle=True, num_workers=3)\n",
    "dataloaders['val'] = DataLoader(val_set, batch_size=3*batch_size, shuffle=True, num_workers=3)"
   ]
  },
  {
   "cell_type": "markdown",
   "id": "226b6657",
   "metadata": {},
   "source": [
    "## Model setup"
   ]
  },
  {
   "cell_type": "code",
   "execution_count": 12,
   "id": "e7c680b6",
   "metadata": {},
   "outputs": [
    {
     "name": "stderr",
     "output_type": "stream",
     "text": [
      "2022-05-04 14:14:05.861222: W tensorflow/stream_executor/platform/default/dso_loader.cc:64] Could not load dynamic library 'libcudart.so.11.0'; dlerror: libcudart.so.11.0: cannot open shared object file: No such file or directory\n",
      "2022-05-04 14:14:05.861240: I tensorflow/stream_executor/cuda/cudart_stub.cc:29] Ignore above cudart dlerror if you do not have a GPU set up on your machine.\n"
     ]
    }
   ],
   "source": [
    "NAME = \"TracNet104-{:%Y-%b-%d %H:%M:%S}\".format(datetime.datetime.now())\n",
    "writer = SummaryWriter(log_dir='logs/{}'.format(NAME))"
   ]
  },
  {
   "cell_type": "code",
   "execution_count": 13,
   "id": "e59ae588",
   "metadata": {},
   "outputs": [],
   "source": [
    "class ConvBlock_1(nn.Module):\n",
    "    \"\"\"Conv3D -> BatchNorm -> ReLU\"\"\"\n",
    "    \n",
    "    def __init__(self, in_channels, out_channels):\n",
    "        super().__init__()\n",
    "        self.conv_block_1 = nn.Sequential(\n",
    "            nn.Conv3d(in_channels, out_channels, kernel_size=(2,3,3), padding='same', bias=False),\n",
    "            nn.BatchNorm3d(out_channels),\n",
    "            nn.ReLU(inplace=True),\n",
    "        )\n",
    "\n",
    "    def forward(self, x):\n",
    "        return self.conv_block_1(x)"
   ]
  },
  {
   "cell_type": "code",
   "execution_count": 14,
   "id": "0159c995",
   "metadata": {},
   "outputs": [],
   "source": [
    "class ConvBlock_2(nn.Module):\n",
    "    \"\"\"Conv3D -> ReLU\"\"\"\n",
    "    \n",
    "    def __init__(self, in_channels, out_channels):\n",
    "        super().__init__()\n",
    "        self.conv_block_2 = nn.Sequential(\n",
    "            nn.Conv3d(in_channels, out_channels, kernel_size=(2,3,3), padding='same'),\n",
    "            nn.ReLU(inplace=True),\n",
    "        )\n",
    "\n",
    "    def forward(self, x):\n",
    "        return self.conv_block_2(x)"
   ]
  },
  {
   "cell_type": "code",
   "execution_count": 15,
   "id": "c1865b35",
   "metadata": {},
   "outputs": [],
   "source": [
    "class TracNet(nn.Module):\n",
    "    def __init__(self, n_channels):\n",
    "        super().__init__()\n",
    "        \n",
    "        self.s1 = ConvBlock_1(n_channels, 32)\n",
    "        self.s2 = ConvBlock_2(32, 64)\n",
    "        self.s3 = nn.MaxPool3d(kernel_size=(1, 2, 2))\n",
    "        self.s4 = ConvBlock_1(64, 64)\n",
    "        self.s5 = ConvBlock_2(64, 128)\n",
    "        self.s6 = nn.MaxPool3d(kernel_size=(1, 2, 2))\n",
    "        self.s7 = ConvBlock_1(128, 128)\n",
    "        self.s8 = ConvBlock_2(128, 256)\n",
    "        self.s9 = nn.MaxPool3d(kernel_size=(1, 2, 2))\n",
    "        self.s10 = ConvBlock_1(256, 128)\n",
    "        self.s11 = ConvBlock_1(128, 256)\n",
    "        self.s12 = nn.ConvTranspose3d(256, 256, kernel_size=(1, 3, 3), stride=(1,2,2))\n",
    "        #fusion3\n",
    "        self.s13 = ConvBlock_1(512, 64)\n",
    "        self.s14 = ConvBlock_1(64, 128)\n",
    "        self.s15 = nn.ConvTranspose3d(128, 128, kernel_size=(1, 3, 3), stride=(1, 2, 2))\n",
    "        #fusion2\n",
    "        self.s16 = ConvBlock_1(256, 32)\n",
    "        self.s17 = ConvBlock_1(32, 64)\n",
    "        self.s18 = nn.ConvTranspose3d(64, 64, kernel_size=(1, 3, 3), stride=(1, 2, 2))\n",
    "        #fusion1\n",
    "        self.s19 = ConvBlock_1(128, 1)\n",
    "        self.s20 = ConvBlock_1(1, 32)\n",
    "        self.s21 = nn.Conv3d(32, 1, kernel_size=(2, 3, 3), padding='same')\n",
    "        \n",
    "    def forward(self, x):\n",
    "        x1 = self.s1(x)\n",
    "        x2 = self.s2(x1)\n",
    "        x3 = self.s3(x2)\n",
    "        x4 = self.s4(x3)\n",
    "        x5 = self.s5(x4)\n",
    "        x6 = self.s6(x5)\n",
    "        x7 = self.s7(x6)\n",
    "        x8 = self.s8(x7)\n",
    "        x9 = self.s9(x8)\n",
    "        x10 = self.s10(x9) \n",
    "        x11 = self.s11(x10)\n",
    "        x12 = self.s12(x11)\n",
    "        padded = torch.nn.functional.pad(x12, (0,-1,0,-1), 'constant', 0)\n",
    "        fusion3 = torch.cat((x8, padded), dim=1)\n",
    "        x13 = self.s13(fusion3)\n",
    "        x14 = self.s14(x13)\n",
    "        x15 = self.s15(x14)\n",
    "        padded = torch.nn.functional.pad(x15, (0,-1,0,-1), 'constant', 0)\n",
    "        fusion2 = torch.cat((x5, padded), dim=1)\n",
    "        x16 = self.s16(fusion2)\n",
    "        x17 = self.s17(x16)\n",
    "        x18 = self.s18(x17)\n",
    "        padded = torch.nn.functional.pad(x18, (0,-1,0,-1), 'constant', 0)\n",
    "        fusion1 = torch.cat((x2, padded), dim=1)\n",
    "        x19 = self.s19(fusion1)\n",
    "        x20 = self.s20(x19)\n",
    "        logits = self.s21(x20)\n",
    "        return logits\n"
   ]
  },
  {
   "cell_type": "markdown",
   "id": "642c1cd2",
   "metadata": {},
   "source": [
    "Sample weights for convolutional layers from normal distribution"
   ]
  },
  {
   "cell_type": "code",
   "execution_count": 16,
   "id": "fa126d38",
   "metadata": {},
   "outputs": [],
   "source": [
    "def initialize_weight(module):\n",
    "    if isinstance(module, (nn.Conv3d, nn.ConvTranspose3d)):\n",
    "        torch.nn.init.normal_(module.weight, std=0.01)"
   ]
  },
  {
   "cell_type": "markdown",
   "id": "cd77e085",
   "metadata": {},
   "source": [
    "Define custom loss function corresponding to the forward loss function in the Matlab regression layer for image-to-image networks \n",
    " \n",
    "$${loss} = \\frac{1}{2} \\sum \\limits _{p=1} ^{HWC} (t_{p} - y_{p})^{2}$$"
   ]
  },
  {
   "cell_type": "code",
   "execution_count": 17,
   "id": "453e6374",
   "metadata": {},
   "outputs": [],
   "source": [
    "class Custom_Loss(nn.Module):\n",
    "    def __init__(self):\n",
    "        super(Custom_Loss, self).__init__();\n",
    "    \n",
    "    def forward(self, predictions, target):\n",
    "        loss = 0.5 * torch.sum(torch.pow(target - predictions, 2))\n",
    "        return loss"
   ]
  },
  {
   "cell_type": "code",
   "execution_count": 18,
   "id": "dbd5a55f",
   "metadata": {},
   "outputs": [],
   "source": [
    "def run_epoch(model, optimizer, dataloader, train):\n",
    "    loss_fn = Custom_Loss()\n",
    "    \n",
    "    # Set model to training mode\n",
    "    if train:\n",
    "        model.train()\n",
    "    else:\n",
    "        model.eval()\n",
    "    \n",
    "    epoch_loss = 0.0\n",
    "    epoch_rmse = 0.0\n",
    "    \n",
    "    # Iterate over data\n",
    "    for xb, yb in dataloader:\n",
    "        xb, yb = xb.to(device), yb.to(device)\n",
    "\n",
    "        # zero the parameters\n",
    "        if train:\n",
    "            optimizer.zero_grad()\n",
    "\n",
    "        # forward\n",
    "        with torch.set_grad_enabled(train):\n",
    "            pred = model(xb)\n",
    "            loss = loss_fn(pred, yb)\n",
    "\n",
    "            # backward + optimize if in training phase\n",
    "            if train:\n",
    "                loss.backward()\n",
    "                nn.utils.clip_grad_norm_(model.parameters(), max_norm=1.0, norm_type=2)                \n",
    "                optimizer.step()\n",
    "\n",
    "        # statistics\n",
    "        epoch_loss += loss.item()\n",
    "    \n",
    "    epoch_loss /= len(dataloader.dataset)\n",
    "    epoch_rmse = np.sqrt(2 * epoch_loss)\n",
    "    return epoch_loss, epoch_rmse"
   ]
  },
  {
   "cell_type": "code",
   "execution_count": 19,
   "id": "3874cb81",
   "metadata": {},
   "outputs": [],
   "source": [
    "def fit(model, optimizer, scheduler, dataloaders, max_epochs, patience):\n",
    "    best_val_rmse = np.inf\n",
    "    best_epoch = -1\n",
    "    \n",
    "    for epoch in range(1, max_epochs+1):\n",
    "        train_loss, train_rmse = run_epoch(model, optimizer, dataloaders['train'], train=True)\n",
    "        scheduler.step()\n",
    "        val_loss, val_rmse = run_epoch(model, None, dataloaders['val'], train=False)\n",
    "        print(f\"Epoch {epoch}/{max_epochs}, train_loss: {train_loss:.3f}, train_rmse: {train_rmse:.3f}, val_loss: {val_loss:.3f}, val_rmse: {val_rmse:.3f}\")\n",
    "        \n",
    "        writer.add_scalar('train_loss', train_loss, epoch)\n",
    "        writer.add_scalar('train_rmse', train_rmse, epoch)\n",
    "        writer.add_scalar('val_loss', val_loss, epoch)\n",
    "        writer.add_scalar('val_rmse', val_rmse, epoch)\n",
    "        \n",
    "        # Save best weights\n",
    "        if val_rmse < best_val_rmse:\n",
    "            best_epoch = epoch\n",
    "            best_val_rmse = val_rmse\n",
    "            best_model_weights = copy.deepcopy(model.state_dict())\n",
    "            \n",
    "        # Early stopping\n",
    "        print(f\"best val_rmse: {best_val_rmse:.3f}, epoch: {epoch}, best_epoch: {best_epoch}, current_patience: {patience - (epoch - best_epoch)}\")\n",
    "        if epoch - best_epoch >= patience:\n",
    "            break\n",
    "        \n",
    "    torch.save(best_model_weights, f'/home/alexrichard/LRZ Sync+Share/ML in Physics/{NAME}.pth')"
   ]
  },
  {
   "cell_type": "code",
   "execution_count": 20,
   "id": "df81a64a",
   "metadata": {
    "scrolled": true
   },
   "outputs": [
    {
     "name": "stdout",
     "output_type": "stream",
     "text": [
      "=================================================================\n",
      "Layer (type:depth-idx)                   Param #\n",
      "=================================================================\n",
      "TracNet                                  --\n",
      "├─ConvBlock_1: 1-1                       --\n",
      "│    └─conv_block_1.0.weight             ├─576\n",
      "│    └─conv_block_1.1.weight             ├─32\n",
      "│    └─conv_block_1.1.bias               └─32\n",
      "│    └─Sequential: 2-1                   --\n",
      "│    │    └─0.weight                     ├─576\n",
      "│    │    └─1.weight                     ├─32\n",
      "│    │    └─1.bias                       └─32\n",
      "│    │    └─Conv3d: 3-1                  576\n",
      "│    │    │    └─weight                  └─576\n",
      "│    │    └─BatchNorm3d: 3-2             64\n",
      "│    │    │    └─weight                  ├─32\n",
      "│    │    │    └─bias                    └─32\n",
      "│    │    └─ReLU: 3-3                    --\n",
      "├─ConvBlock_2: 1-2                       --\n",
      "│    └─conv_block_2.0.weight             ├─36,864\n",
      "│    └─conv_block_2.0.bias               └─64\n",
      "│    └─Sequential: 2-2                   --\n",
      "│    │    └─0.weight                     ├─36,864\n",
      "│    │    └─0.bias                       └─64\n",
      "│    │    └─Conv3d: 3-4                  36,928\n",
      "│    │    │    └─weight                  ├─36,864\n",
      "│    │    │    └─bias                    └─64\n",
      "│    │    └─ReLU: 3-5                    --\n",
      "├─MaxPool3d: 1-3                         --\n",
      "├─ConvBlock_1: 1-4                       --\n",
      "│    └─conv_block_1.0.weight             ├─73,728\n",
      "│    └─conv_block_1.1.weight             ├─64\n",
      "│    └─conv_block_1.1.bias               └─64\n",
      "│    └─Sequential: 2-3                   --\n",
      "│    │    └─0.weight                     ├─73,728\n",
      "│    │    └─1.weight                     ├─64\n",
      "│    │    └─1.bias                       └─64\n",
      "│    │    └─Conv3d: 3-6                  73,728\n",
      "│    │    │    └─weight                  └─73,728\n",
      "│    │    └─BatchNorm3d: 3-7             128\n",
      "│    │    │    └─weight                  ├─64\n",
      "│    │    │    └─bias                    └─64\n",
      "│    │    └─ReLU: 3-8                    --\n",
      "├─ConvBlock_2: 1-5                       --\n",
      "│    └─conv_block_2.0.weight             ├─147,456\n",
      "│    └─conv_block_2.0.bias               └─128\n",
      "│    └─Sequential: 2-4                   --\n",
      "│    │    └─0.weight                     ├─147,456\n",
      "│    │    └─0.bias                       └─128\n",
      "│    │    └─Conv3d: 3-9                  147,584\n",
      "│    │    │    └─weight                  ├─147,456\n",
      "│    │    │    └─bias                    └─128\n",
      "│    │    └─ReLU: 3-10                   --\n",
      "├─MaxPool3d: 1-6                         --\n",
      "├─ConvBlock_1: 1-7                       --\n",
      "│    └─conv_block_1.0.weight             ├─294,912\n",
      "│    └─conv_block_1.1.weight             ├─128\n",
      "│    └─conv_block_1.1.bias               └─128\n",
      "│    └─Sequential: 2-5                   --\n",
      "│    │    └─0.weight                     ├─294,912\n",
      "│    │    └─1.weight                     ├─128\n",
      "│    │    └─1.bias                       └─128\n",
      "│    │    └─Conv3d: 3-11                 294,912\n",
      "│    │    │    └─weight                  └─294,912\n",
      "│    │    └─BatchNorm3d: 3-12            256\n",
      "│    │    │    └─weight                  ├─128\n",
      "│    │    │    └─bias                    └─128\n",
      "│    │    └─ReLU: 3-13                   --\n",
      "├─ConvBlock_2: 1-8                       --\n",
      "│    └─conv_block_2.0.weight             ├─589,824\n",
      "│    └─conv_block_2.0.bias               └─256\n",
      "│    └─Sequential: 2-6                   --\n",
      "│    │    └─0.weight                     ├─589,824\n",
      "│    │    └─0.bias                       └─256\n",
      "│    │    └─Conv3d: 3-14                 590,080\n",
      "│    │    │    └─weight                  ├─589,824\n",
      "│    │    │    └─bias                    └─256\n",
      "│    │    └─ReLU: 3-15                   --\n",
      "├─MaxPool3d: 1-9                         --\n",
      "├─ConvBlock_1: 1-10                      --\n",
      "│    └─conv_block_1.0.weight             ├─589,824\n",
      "│    └─conv_block_1.1.weight             ├─128\n",
      "│    └─conv_block_1.1.bias               └─128\n",
      "│    └─Sequential: 2-7                   --\n",
      "│    │    └─0.weight                     ├─589,824\n",
      "│    │    └─1.weight                     ├─128\n",
      "│    │    └─1.bias                       └─128\n",
      "│    │    └─Conv3d: 3-16                 589,824\n",
      "│    │    │    └─weight                  └─589,824\n",
      "│    │    └─BatchNorm3d: 3-17            256\n",
      "│    │    │    └─weight                  ├─128\n",
      "│    │    │    └─bias                    └─128\n",
      "│    │    └─ReLU: 3-18                   --\n",
      "├─ConvBlock_1: 1-11                      --\n",
      "│    └─conv_block_1.0.weight             ├─589,824\n",
      "│    └─conv_block_1.1.weight             ├─256\n",
      "│    └─conv_block_1.1.bias               └─256\n",
      "│    └─Sequential: 2-8                   --\n",
      "│    │    └─0.weight                     ├─589,824\n",
      "│    │    └─1.weight                     ├─256\n",
      "│    │    └─1.bias                       └─256\n",
      "│    │    └─Conv3d: 3-19                 589,824\n",
      "│    │    │    └─weight                  └─589,824\n",
      "│    │    └─BatchNorm3d: 3-20            512\n",
      "│    │    │    └─weight                  ├─256\n",
      "│    │    │    └─bias                    └─256\n",
      "│    │    └─ReLU: 3-21                   --\n",
      "├─ConvTranspose3d: 1-12                  590,080\n",
      "│    └─weight                            ├─589,824\n",
      "│    └─bias                              └─256\n",
      "├─ConvBlock_1: 1-13                      --\n",
      "│    └─conv_block_1.0.weight             ├─589,824\n",
      "│    └─conv_block_1.1.weight             ├─64\n",
      "│    └─conv_block_1.1.bias               └─64\n",
      "│    └─Sequential: 2-9                   --\n",
      "│    │    └─0.weight                     ├─589,824\n",
      "│    │    └─1.weight                     ├─64\n",
      "│    │    └─1.bias                       └─64\n",
      "│    │    └─Conv3d: 3-22                 589,824\n",
      "│    │    │    └─weight                  └─589,824\n",
      "│    │    └─BatchNorm3d: 3-23            128\n",
      "│    │    │    └─weight                  ├─64\n",
      "│    │    │    └─bias                    └─64\n",
      "│    │    └─ReLU: 3-24                   --\n",
      "├─ConvBlock_1: 1-14                      --\n",
      "│    └─conv_block_1.0.weight             ├─147,456\n",
      "│    └─conv_block_1.1.weight             ├─128\n",
      "│    └─conv_block_1.1.bias               └─128\n",
      "│    └─Sequential: 2-10                  --\n",
      "│    │    └─0.weight                     ├─147,456\n",
      "│    │    └─1.weight                     ├─128\n",
      "│    │    └─1.bias                       └─128\n",
      "│    │    └─Conv3d: 3-25                 147,456\n",
      "│    │    │    └─weight                  └─147,456\n",
      "│    │    └─BatchNorm3d: 3-26            256\n",
      "│    │    │    └─weight                  ├─128\n",
      "│    │    │    └─bias                    └─128\n",
      "│    │    └─ReLU: 3-27                   --\n",
      "├─ConvTranspose3d: 1-15                  147,584\n",
      "│    └─weight                            ├─147,456\n",
      "│    └─bias                              └─128\n",
      "├─ConvBlock_1: 1-16                      --\n",
      "│    └─conv_block_1.0.weight             ├─147,456\n",
      "│    └─conv_block_1.1.weight             ├─32\n",
      "│    └─conv_block_1.1.bias               └─32\n",
      "│    └─Sequential: 2-11                  --\n",
      "│    │    └─0.weight                     ├─147,456\n",
      "│    │    └─1.weight                     ├─32\n",
      "│    │    └─1.bias                       └─32\n",
      "│    │    └─Conv3d: 3-28                 147,456\n",
      "│    │    │    └─weight                  └─147,456\n",
      "│    │    └─BatchNorm3d: 3-29            64\n",
      "│    │    │    └─weight                  ├─32\n",
      "│    │    │    └─bias                    └─32\n",
      "│    │    └─ReLU: 3-30                   --\n",
      "├─ConvBlock_1: 1-17                      --\n",
      "│    └─conv_block_1.0.weight             ├─36,864\n",
      "│    └─conv_block_1.1.weight             ├─64\n",
      "│    └─conv_block_1.1.bias               └─64\n",
      "│    └─Sequential: 2-12                  --\n",
      "│    │    └─0.weight                     ├─36,864\n",
      "│    │    └─1.weight                     ├─64\n",
      "│    │    └─1.bias                       └─64\n",
      "│    │    └─Conv3d: 3-31                 36,864\n",
      "│    │    │    └─weight                  └─36,864\n",
      "│    │    └─BatchNorm3d: 3-32            128\n",
      "│    │    │    └─weight                  ├─64\n",
      "│    │    │    └─bias                    └─64\n",
      "│    │    └─ReLU: 3-33                   --\n",
      "├─ConvTranspose3d: 1-18                  36,928\n",
      "│    └─weight                            ├─36,864\n",
      "│    └─bias                              └─64\n",
      "├─ConvBlock_1: 1-19                      --\n",
      "│    └─conv_block_1.0.weight             ├─2,304\n",
      "│    └─conv_block_1.1.weight             ├─1\n",
      "│    └─conv_block_1.1.bias               └─1\n",
      "│    └─Sequential: 2-13                  --\n",
      "│    │    └─0.weight                     ├─2,304\n",
      "│    │    └─1.weight                     ├─1\n",
      "│    │    └─1.bias                       └─1\n",
      "│    │    └─Conv3d: 3-34                 2,304\n",
      "│    │    │    └─weight                  └─2,304\n",
      "│    │    └─BatchNorm3d: 3-35            2\n",
      "│    │    │    └─weight                  ├─1\n",
      "│    │    │    └─bias                    └─1\n",
      "│    │    └─ReLU: 3-36                   --\n",
      "├─ConvBlock_1: 1-20                      --\n",
      "│    └─conv_block_1.0.weight             ├─576\n",
      "│    └─conv_block_1.1.weight             ├─32\n",
      "│    └─conv_block_1.1.bias               └─32\n",
      "│    └─Sequential: 2-14                  --\n",
      "│    │    └─0.weight                     ├─576\n",
      "│    │    └─1.weight                     ├─32\n",
      "│    │    └─1.bias                       └─32\n",
      "│    │    └─Conv3d: 3-37                 576\n",
      "│    │    │    └─weight                  └─576\n",
      "│    │    └─BatchNorm3d: 3-38            64\n",
      "│    │    │    └─weight                  ├─32\n",
      "│    │    │    └─bias                    └─32\n",
      "│    │    └─ReLU: 3-39                   --\n",
      "├─Conv3d: 1-21                           577\n",
      "│    └─weight                            ├─576\n",
      "│    └─bias                              └─1\n",
      "=================================================================\n",
      "Total params: 4,024,963\n",
      "Trainable params: 4,024,963\n",
      "Non-trainable params: 0\n",
      "=================================================================\n",
      "=================================================================\n",
      "Layer (type:depth-idx)                   Param #\n",
      "=================================================================\n",
      "TracNet                                  --\n",
      "├─ConvBlock_1: 1-1                       --\n",
      "│    └─conv_block_1.0.weight             ├─576\n",
      "│    └─conv_block_1.1.weight             ├─32\n",
      "│    └─conv_block_1.1.bias               └─32\n",
      "│    └─Sequential: 2-1                   --\n",
      "│    │    └─0.weight                     ├─576\n",
      "│    │    └─1.weight                     ├─32\n",
      "│    │    └─1.bias                       └─32\n",
      "│    │    └─Conv3d: 3-1                  576\n",
      "│    │    │    └─weight                  └─576\n",
      "│    │    └─BatchNorm3d: 3-2             64\n",
      "│    │    │    └─weight                  ├─32\n",
      "│    │    │    └─bias                    └─32\n",
      "│    │    └─ReLU: 3-3                    --\n",
      "├─ConvBlock_2: 1-2                       --\n",
      "│    └─conv_block_2.0.weight             ├─36,864\n",
      "│    └─conv_block_2.0.bias               └─64\n",
      "│    └─Sequential: 2-2                   --\n",
      "│    │    └─0.weight                     ├─36,864\n",
      "│    │    └─0.bias                       └─64\n",
      "│    │    └─Conv3d: 3-4                  36,928\n",
      "│    │    │    └─weight                  ├─36,864\n",
      "│    │    │    └─bias                    └─64\n",
      "│    │    └─ReLU: 3-5                    --\n",
      "├─MaxPool3d: 1-3                         --\n",
      "├─ConvBlock_1: 1-4                       --\n",
      "│    └─conv_block_1.0.weight             ├─73,728\n",
      "│    └─conv_block_1.1.weight             ├─64\n",
      "│    └─conv_block_1.1.bias               └─64\n",
      "│    └─Sequential: 2-3                   --\n",
      "│    │    └─0.weight                     ├─73,728\n",
      "│    │    └─1.weight                     ├─64\n",
      "│    │    └─1.bias                       └─64\n",
      "│    │    └─Conv3d: 3-6                  73,728\n",
      "│    │    │    └─weight                  └─73,728\n",
      "│    │    └─BatchNorm3d: 3-7             128\n",
      "│    │    │    └─weight                  ├─64\n",
      "│    │    │    └─bias                    └─64\n",
      "│    │    └─ReLU: 3-8                    --\n",
      "├─ConvBlock_2: 1-5                       --\n",
      "│    └─conv_block_2.0.weight             ├─147,456\n",
      "│    └─conv_block_2.0.bias               └─128\n",
      "│    └─Sequential: 2-4                   --\n",
      "│    │    └─0.weight                     ├─147,456\n",
      "│    │    └─0.bias                       └─128\n",
      "│    │    └─Conv3d: 3-9                  147,584\n",
      "│    │    │    └─weight                  ├─147,456\n",
      "│    │    │    └─bias                    └─128\n",
      "│    │    └─ReLU: 3-10                   --\n",
      "├─MaxPool3d: 1-6                         --\n",
      "├─ConvBlock_1: 1-7                       --\n",
      "│    └─conv_block_1.0.weight             ├─294,912\n",
      "│    └─conv_block_1.1.weight             ├─128\n",
      "│    └─conv_block_1.1.bias               └─128\n",
      "│    └─Sequential: 2-5                   --\n",
      "│    │    └─0.weight                     ├─294,912\n",
      "│    │    └─1.weight                     ├─128\n",
      "│    │    └─1.bias                       └─128\n",
      "│    │    └─Conv3d: 3-11                 294,912\n",
      "│    │    │    └─weight                  └─294,912\n",
      "│    │    └─BatchNorm3d: 3-12            256\n",
      "│    │    │    └─weight                  ├─128\n",
      "│    │    │    └─bias                    └─128\n",
      "│    │    └─ReLU: 3-13                   --\n",
      "├─ConvBlock_2: 1-8                       --\n",
      "│    └─conv_block_2.0.weight             ├─589,824\n",
      "│    └─conv_block_2.0.bias               └─256\n",
      "│    └─Sequential: 2-6                   --\n",
      "│    │    └─0.weight                     ├─589,824\n",
      "│    │    └─0.bias                       └─256\n",
      "│    │    └─Conv3d: 3-14                 590,080\n",
      "│    │    │    └─weight                  ├─589,824\n",
      "│    │    │    └─bias                    └─256\n",
      "│    │    └─ReLU: 3-15                   --\n",
      "├─MaxPool3d: 1-9                         --\n",
      "├─ConvBlock_1: 1-10                      --\n",
      "│    └─conv_block_1.0.weight             ├─589,824\n",
      "│    └─conv_block_1.1.weight             ├─128\n",
      "│    └─conv_block_1.1.bias               └─128\n",
      "│    └─Sequential: 2-7                   --\n",
      "│    │    └─0.weight                     ├─589,824\n",
      "│    │    └─1.weight                     ├─128\n",
      "│    │    └─1.bias                       └─128\n",
      "│    │    └─Conv3d: 3-16                 589,824\n",
      "│    │    │    └─weight                  └─589,824\n",
      "│    │    └─BatchNorm3d: 3-17            256\n",
      "│    │    │    └─weight                  ├─128\n",
      "│    │    │    └─bias                    └─128\n",
      "│    │    └─ReLU: 3-18                   --\n",
      "├─ConvBlock_1: 1-11                      --\n",
      "│    └─conv_block_1.0.weight             ├─589,824\n",
      "│    └─conv_block_1.1.weight             ├─256\n",
      "│    └─conv_block_1.1.bias               └─256\n",
      "│    └─Sequential: 2-8                   --\n",
      "│    │    └─0.weight                     ├─589,824\n",
      "│    │    └─1.weight                     ├─256\n",
      "│    │    └─1.bias                       └─256\n",
      "│    │    └─Conv3d: 3-19                 589,824\n",
      "│    │    │    └─weight                  └─589,824\n",
      "│    │    └─BatchNorm3d: 3-20            512\n",
      "│    │    │    └─weight                  ├─256\n",
      "│    │    │    └─bias                    └─256\n",
      "│    │    └─ReLU: 3-21                   --\n",
      "├─ConvTranspose3d: 1-12                  590,080\n",
      "│    └─weight                            ├─589,824\n",
      "│    └─bias                              └─256\n",
      "├─ConvBlock_1: 1-13                      --\n",
      "│    └─conv_block_1.0.weight             ├─589,824\n",
      "│    └─conv_block_1.1.weight             ├─64\n",
      "│    └─conv_block_1.1.bias               └─64\n",
      "│    └─Sequential: 2-9                   --\n",
      "│    │    └─0.weight                     ├─589,824\n",
      "│    │    └─1.weight                     ├─64\n",
      "│    │    └─1.bias                       └─64\n",
      "│    │    └─Conv3d: 3-22                 589,824\n",
      "│    │    │    └─weight                  └─589,824\n",
      "│    │    └─BatchNorm3d: 3-23            128\n",
      "│    │    │    └─weight                  ├─64\n",
      "│    │    │    └─bias                    └─64\n",
      "│    │    └─ReLU: 3-24                   --\n",
      "├─ConvBlock_1: 1-14                      --\n",
      "│    └─conv_block_1.0.weight             ├─147,456\n",
      "│    └─conv_block_1.1.weight             ├─128\n",
      "│    └─conv_block_1.1.bias               └─128\n",
      "│    └─Sequential: 2-10                  --\n",
      "│    │    └─0.weight                     ├─147,456\n",
      "│    │    └─1.weight                     ├─128\n",
      "│    │    └─1.bias                       └─128\n",
      "│    │    └─Conv3d: 3-25                 147,456\n",
      "│    │    │    └─weight                  └─147,456\n",
      "│    │    └─BatchNorm3d: 3-26            256\n",
      "│    │    │    └─weight                  ├─128\n",
      "│    │    │    └─bias                    └─128\n",
      "│    │    └─ReLU: 3-27                   --\n",
      "├─ConvTranspose3d: 1-15                  147,584\n",
      "│    └─weight                            ├─147,456\n",
      "│    └─bias                              └─128\n",
      "├─ConvBlock_1: 1-16                      --\n",
      "│    └─conv_block_1.0.weight             ├─147,456\n",
      "│    └─conv_block_1.1.weight             ├─32\n",
      "│    └─conv_block_1.1.bias               └─32\n",
      "│    └─Sequential: 2-11                  --\n",
      "│    │    └─0.weight                     ├─147,456\n",
      "│    │    └─1.weight                     ├─32\n",
      "│    │    └─1.bias                       └─32\n",
      "│    │    └─Conv3d: 3-28                 147,456\n",
      "│    │    │    └─weight                  └─147,456\n",
      "│    │    └─BatchNorm3d: 3-29            64\n",
      "│    │    │    └─weight                  ├─32\n",
      "│    │    │    └─bias                    └─32\n",
      "│    │    └─ReLU: 3-30                   --\n",
      "├─ConvBlock_1: 1-17                      --\n",
      "│    └─conv_block_1.0.weight             ├─36,864\n",
      "│    └─conv_block_1.1.weight             ├─64\n",
      "│    └─conv_block_1.1.bias               └─64\n",
      "│    └─Sequential: 2-12                  --\n",
      "│    │    └─0.weight                     ├─36,864\n",
      "│    │    └─1.weight                     ├─64\n",
      "│    │    └─1.bias                       └─64\n",
      "│    │    └─Conv3d: 3-31                 36,864\n",
      "│    │    │    └─weight                  └─36,864\n",
      "│    │    └─BatchNorm3d: 3-32            128\n",
      "│    │    │    └─weight                  ├─64\n",
      "│    │    │    └─bias                    └─64\n",
      "│    │    └─ReLU: 3-33                   --\n",
      "├─ConvTranspose3d: 1-18                  36,928\n",
      "│    └─weight                            ├─36,864\n",
      "│    └─bias                              └─64\n",
      "├─ConvBlock_1: 1-19                      --\n",
      "│    └─conv_block_1.0.weight             ├─2,304\n",
      "│    └─conv_block_1.1.weight             ├─1\n",
      "│    └─conv_block_1.1.bias               └─1\n",
      "│    └─Sequential: 2-13                  --\n",
      "│    │    └─0.weight                     ├─2,304\n",
      "│    │    └─1.weight                     ├─1\n",
      "│    │    └─1.bias                       └─1\n",
      "│    │    └─Conv3d: 3-34                 2,304\n",
      "│    │    │    └─weight                  └─2,304\n",
      "│    │    └─BatchNorm3d: 3-35            2\n",
      "│    │    │    └─weight                  ├─1\n",
      "│    │    │    └─bias                    └─1\n",
      "│    │    └─ReLU: 3-36                   --\n",
      "├─ConvBlock_1: 1-20                      --\n",
      "│    └─conv_block_1.0.weight             ├─576\n",
      "│    └─conv_block_1.1.weight             ├─32\n",
      "│    └─conv_block_1.1.bias               └─32\n",
      "│    └─Sequential: 2-14                  --\n",
      "│    │    └─0.weight                     ├─576\n",
      "│    │    └─1.weight                     ├─32\n",
      "│    │    └─1.bias                       └─32\n",
      "│    │    └─Conv3d: 3-37                 576\n",
      "│    │    │    └─weight                  └─576\n",
      "│    │    └─BatchNorm3d: 3-38            64\n",
      "│    │    │    └─weight                  ├─32\n",
      "│    │    │    └─bias                    └─32\n",
      "│    │    └─ReLU: 3-39                   --\n",
      "├─Conv3d: 1-21                           577\n",
      "│    └─weight                            ├─576\n",
      "│    └─bias                              └─1\n",
      "=================================================================\n",
      "Total params: 4,024,963\n",
      "Trainable params: 4,024,963\n",
      "Non-trainable params: 0\n",
      "=================================================================\n"
     ]
    },
    {
     "name": "stderr",
     "output_type": "stream",
     "text": [
      "/home/alexrichard/.local/lib/python3.8/site-packages/torch/nn/modules/conv.py:587: UserWarning: Using padding='same' with even kernel lengths and odd dilation may require a zero-padded copy of the input be created (Triggered internally at  ../aten/src/ATen/native/Convolution.cpp:744.)\n",
      "  return F.conv3d(\n"
     ]
    },
    {
     "name": "stdout",
     "output_type": "stream",
     "text": [
      "Adjusting learning rate of group 0 to 6.0000e-04.\n",
      "Adjusting learning rate of group 0 to 6.0000e-04.\n",
      "Epoch 1/5, train_loss: 255.790, train_rmse: 22.618, val_loss: 350.878, val_rmse: 26.491\n",
      "best val_rmse: 26.491, epoch: 1, best_epoch: 1, current_patience: 5\n",
      "Adjusting learning rate of group 0 to 6.0000e-04.\n",
      "Epoch 2/5, train_loss: 250.575, train_rmse: 22.386, val_loss: 350.755, val_rmse: 26.486\n",
      "best val_rmse: 26.486, epoch: 2, best_epoch: 2, current_patience: 5\n",
      "Adjusting learning rate of group 0 to 6.0000e-04.\n",
      "Epoch 3/5, train_loss: 241.538, train_rmse: 21.979, val_loss: 350.650, val_rmse: 26.482\n",
      "best val_rmse: 26.482, epoch: 3, best_epoch: 3, current_patience: 5\n",
      "Adjusting learning rate of group 0 to 6.0000e-04.\n",
      "Epoch 4/5, train_loss: 230.497, train_rmse: 21.471, val_loss: 350.559, val_rmse: 26.479\n",
      "best val_rmse: 26.479, epoch: 4, best_epoch: 4, current_patience: 5\n",
      "Adjusting learning rate of group 0 to 6.0000e-04.\n",
      "Epoch 5/5, train_loss: 219.430, train_rmse: 20.949, val_loss: 350.471, val_rmse: 26.475\n",
      "best val_rmse: 26.475, epoch: 5, best_epoch: 5, current_patience: 5\n"
     ]
    }
   ],
   "source": [
    "model = TracNet(n_channels=1).double()\n",
    "print(summary(model, verbose=2))\n",
    "model.to(device)\n",
    "model.apply(initialize_weight)\n",
    "\n",
    "inputs, targets = next(iter(dataloaders['train']))\n",
    "writer.add_graph(model, inputs)\n",
    "\n",
    "optimizer = torch.optim.SGD(model.parameters(), lr=0.0006, momentum=0.9, weight_decay=0.0005)\n",
    "scheduler = StepLR(optimizer, step_size=15, gamma=0.7943, verbose=True)\n",
    "\n",
    "fit(model, optimizer, scheduler, dataloaders, max_epochs=5, patience=5)"
   ]
  },
  {
   "cell_type": "code",
   "execution_count": 21,
   "id": "cd7feddc",
   "metadata": {
    "scrolled": true
   },
   "outputs": [
    {
     "data": {
      "text/plain": [
       "TracNet(\n",
       "  (s1): ConvBlock_1(\n",
       "    (conv_block_1): Sequential(\n",
       "      (0): Conv3d(1, 32, kernel_size=(2, 3, 3), stride=(1, 1, 1), padding=same, bias=False)\n",
       "      (1): BatchNorm3d(32, eps=1e-05, momentum=0.1, affine=True, track_running_stats=True)\n",
       "      (2): ReLU(inplace=True)\n",
       "    )\n",
       "  )\n",
       "  (s2): ConvBlock_2(\n",
       "    (conv_block_2): Sequential(\n",
       "      (0): Conv3d(32, 64, kernel_size=(2, 3, 3), stride=(1, 1, 1), padding=same)\n",
       "      (1): ReLU(inplace=True)\n",
       "    )\n",
       "  )\n",
       "  (s3): MaxPool3d(kernel_size=(1, 2, 2), stride=(1, 2, 2), padding=0, dilation=1, ceil_mode=False)\n",
       "  (s4): ConvBlock_1(\n",
       "    (conv_block_1): Sequential(\n",
       "      (0): Conv3d(64, 64, kernel_size=(2, 3, 3), stride=(1, 1, 1), padding=same, bias=False)\n",
       "      (1): BatchNorm3d(64, eps=1e-05, momentum=0.1, affine=True, track_running_stats=True)\n",
       "      (2): ReLU(inplace=True)\n",
       "    )\n",
       "  )\n",
       "  (s5): ConvBlock_2(\n",
       "    (conv_block_2): Sequential(\n",
       "      (0): Conv3d(64, 128, kernel_size=(2, 3, 3), stride=(1, 1, 1), padding=same)\n",
       "      (1): ReLU(inplace=True)\n",
       "    )\n",
       "  )\n",
       "  (s6): MaxPool3d(kernel_size=(1, 2, 2), stride=(1, 2, 2), padding=0, dilation=1, ceil_mode=False)\n",
       "  (s7): ConvBlock_1(\n",
       "    (conv_block_1): Sequential(\n",
       "      (0): Conv3d(128, 128, kernel_size=(2, 3, 3), stride=(1, 1, 1), padding=same, bias=False)\n",
       "      (1): BatchNorm3d(128, eps=1e-05, momentum=0.1, affine=True, track_running_stats=True)\n",
       "      (2): ReLU(inplace=True)\n",
       "    )\n",
       "  )\n",
       "  (s8): ConvBlock_2(\n",
       "    (conv_block_2): Sequential(\n",
       "      (0): Conv3d(128, 256, kernel_size=(2, 3, 3), stride=(1, 1, 1), padding=same)\n",
       "      (1): ReLU(inplace=True)\n",
       "    )\n",
       "  )\n",
       "  (s9): MaxPool3d(kernel_size=(1, 2, 2), stride=(1, 2, 2), padding=0, dilation=1, ceil_mode=False)\n",
       "  (s10): ConvBlock_1(\n",
       "    (conv_block_1): Sequential(\n",
       "      (0): Conv3d(256, 128, kernel_size=(2, 3, 3), stride=(1, 1, 1), padding=same, bias=False)\n",
       "      (1): BatchNorm3d(128, eps=1e-05, momentum=0.1, affine=True, track_running_stats=True)\n",
       "      (2): ReLU(inplace=True)\n",
       "    )\n",
       "  )\n",
       "  (s11): ConvBlock_1(\n",
       "    (conv_block_1): Sequential(\n",
       "      (0): Conv3d(128, 256, kernel_size=(2, 3, 3), stride=(1, 1, 1), padding=same, bias=False)\n",
       "      (1): BatchNorm3d(256, eps=1e-05, momentum=0.1, affine=True, track_running_stats=True)\n",
       "      (2): ReLU(inplace=True)\n",
       "    )\n",
       "  )\n",
       "  (s12): ConvTranspose3d(256, 256, kernel_size=(1, 3, 3), stride=(1, 2, 2))\n",
       "  (s13): ConvBlock_1(\n",
       "    (conv_block_1): Sequential(\n",
       "      (0): Conv3d(512, 64, kernel_size=(2, 3, 3), stride=(1, 1, 1), padding=same, bias=False)\n",
       "      (1): BatchNorm3d(64, eps=1e-05, momentum=0.1, affine=True, track_running_stats=True)\n",
       "      (2): ReLU(inplace=True)\n",
       "    )\n",
       "  )\n",
       "  (s14): ConvBlock_1(\n",
       "    (conv_block_1): Sequential(\n",
       "      (0): Conv3d(64, 128, kernel_size=(2, 3, 3), stride=(1, 1, 1), padding=same, bias=False)\n",
       "      (1): BatchNorm3d(128, eps=1e-05, momentum=0.1, affine=True, track_running_stats=True)\n",
       "      (2): ReLU(inplace=True)\n",
       "    )\n",
       "  )\n",
       "  (s15): ConvTranspose3d(128, 128, kernel_size=(1, 3, 3), stride=(1, 2, 2))\n",
       "  (s16): ConvBlock_1(\n",
       "    (conv_block_1): Sequential(\n",
       "      (0): Conv3d(256, 32, kernel_size=(2, 3, 3), stride=(1, 1, 1), padding=same, bias=False)\n",
       "      (1): BatchNorm3d(32, eps=1e-05, momentum=0.1, affine=True, track_running_stats=True)\n",
       "      (2): ReLU(inplace=True)\n",
       "    )\n",
       "  )\n",
       "  (s17): ConvBlock_1(\n",
       "    (conv_block_1): Sequential(\n",
       "      (0): Conv3d(32, 64, kernel_size=(2, 3, 3), stride=(1, 1, 1), padding=same, bias=False)\n",
       "      (1): BatchNorm3d(64, eps=1e-05, momentum=0.1, affine=True, track_running_stats=True)\n",
       "      (2): ReLU(inplace=True)\n",
       "    )\n",
       "  )\n",
       "  (s18): ConvTranspose3d(64, 64, kernel_size=(1, 3, 3), stride=(1, 2, 2))\n",
       "  (s19): ConvBlock_1(\n",
       "    (conv_block_1): Sequential(\n",
       "      (0): Conv3d(128, 1, kernel_size=(2, 3, 3), stride=(1, 1, 1), padding=same, bias=False)\n",
       "      (1): BatchNorm3d(1, eps=1e-05, momentum=0.1, affine=True, track_running_stats=True)\n",
       "      (2): ReLU(inplace=True)\n",
       "    )\n",
       "  )\n",
       "  (s20): ConvBlock_1(\n",
       "    (conv_block_1): Sequential(\n",
       "      (0): Conv3d(1, 32, kernel_size=(2, 3, 3), stride=(1, 1, 1), padding=same, bias=False)\n",
       "      (1): BatchNorm3d(32, eps=1e-05, momentum=0.1, affine=True, track_running_stats=True)\n",
       "      (2): ReLU(inplace=True)\n",
       "    )\n",
       "  )\n",
       "  (s21): Conv3d(32, 1, kernel_size=(2, 3, 3), stride=(1, 1, 1), padding=same)\n",
       ")"
      ]
     },
     "execution_count": 21,
     "metadata": {},
     "output_type": "execute_result"
    }
   ],
   "source": [
    "model.load_state_dict(torch.load(f'/home/alexrichard/LRZ Sync+Share/ML in Physics/{NAME}.pth'))\n",
    "model.eval()"
   ]
  },
  {
   "cell_type": "markdown",
   "id": "3b0dc5c1",
   "metadata": {},
   "source": [
    "## Evaluation"
   ]
  },
  {
   "cell_type": "markdown",
   "id": "88747a9c",
   "metadata": {},
   "source": [
    "Load an exemplary pair of displacement and traction field from the test set"
   ]
  },
  {
   "cell_type": "code",
   "execution_count": 22,
   "id": "c283c2d2",
   "metadata": {
    "scrolled": true
   },
   "outputs": [],
   "source": [
    "# Test data for working on Martinsried machine\n",
    "sample_path = '/home/alexrichard/LRZ Sync+Share/ML in Physics/DL-TFM-main/test/generic/testData104/dspl/MLData0022.mat'\n",
    "target_path = '/home/alexrichard/LRZ Sync+Share/ML in Physics/DL-TFM-main/test/generic/testData104/trac/MLData0022.mat'\n",
    "sample = loadmat(sample_path)\n",
    "target = loadmat(target_path)\n",
    "# To numpy arrays\n",
    "dspl_field = np.array(sample['dspl'])[np.newaxis, :]\n",
    "gt_trac_field = np.array(target['trac'])[np.newaxis, :]\n",
    "# Reshape\n",
    "dspl_field = np.moveaxis(dspl_field[:, np.newaxis], [2, 3, 4], [-1, 3, 2])\n",
    "gt_trac_field = np.moveaxis(gt_trac_field[:, np.newaxis], [2, 3, 4], [-1, 3, 2])\n",
    "# To torch tensors\n",
    "dspl_field = torch.from_numpy(dspl_field).double()\n",
    "gt_trac_field = torch.from_numpy(gt_trac_field).double()"
   ]
  },
  {
   "cell_type": "markdown",
   "id": "0c9da5f8",
   "metadata": {},
   "source": [
    "Define function to perform predictions with torch model"
   ]
  },
  {
   "cell_type": "code",
   "execution_count": 23,
   "id": "3e6fe515",
   "metadata": {},
   "outputs": [],
   "source": [
    "def predict(features):\n",
    "    with torch.no_grad():\n",
    "        return model(features)"
   ]
  },
  {
   "cell_type": "code",
   "execution_count": 24,
   "id": "37174be2",
   "metadata": {},
   "outputs": [],
   "source": [
    "predicted_trac_field = predict(dspl_field)"
   ]
  },
  {
   "cell_type": "code",
   "execution_count": 25,
   "id": "1ca9981c",
   "metadata": {},
   "outputs": [
    {
     "data": {
      "text/plain": [
       "torch.Size([1, 1, 2, 104, 104])"
      ]
     },
     "execution_count": 25,
     "metadata": {},
     "output_type": "execute_result"
    }
   ],
   "source": [
    "predicted_trac_field.shape"
   ]
  },
  {
   "cell_type": "code",
   "execution_count": 26,
   "id": "e8df8cba",
   "metadata": {},
   "outputs": [],
   "source": [
    "predicted_trac_field = torch.squeeze(predicted_trac_field)"
   ]
  },
  {
   "cell_type": "code",
   "execution_count": 27,
   "id": "583cbc28",
   "metadata": {},
   "outputs": [
    {
     "data": {
      "text/plain": [
       "torch.Size([2, 104, 104])"
      ]
     },
     "execution_count": 27,
     "metadata": {},
     "output_type": "execute_result"
    }
   ],
   "source": [
    "predicted_trac_field.shape"
   ]
  },
  {
   "cell_type": "code",
   "execution_count": 28,
   "id": "a4716c84",
   "metadata": {},
   "outputs": [],
   "source": [
    "predicted_trac_field = torch.permute(predicted_trac_field, (2, 1, 0))"
   ]
  },
  {
   "cell_type": "code",
   "execution_count": 29,
   "id": "dca12d85",
   "metadata": {},
   "outputs": [
    {
     "data": {
      "text/plain": [
       "torch.Size([104, 104, 2])"
      ]
     },
     "execution_count": 29,
     "metadata": {},
     "output_type": "execute_result"
    }
   ],
   "source": [
    "predicted_trac_field.shape"
   ]
  },
  {
   "cell_type": "code",
   "execution_count": 30,
   "id": "5f0aa4ef",
   "metadata": {},
   "outputs": [],
   "source": [
    "predicted_trac_field_dict = {\"trac\": np.array(predicted_trac_field)}"
   ]
  },
  {
   "cell_type": "code",
   "execution_count": 31,
   "id": "af488128",
   "metadata": {},
   "outputs": [
    {
     "data": {
      "text/plain": [
       "array([[[-0.03892724, -0.03873764],\n",
       "        [-0.03882611, -0.03856356],\n",
       "        [-0.03883287, -0.03856733],\n",
       "        ...,\n",
       "        [-0.03884956, -0.03857117],\n",
       "        [-0.03885003, -0.03857323],\n",
       "        [-0.03887555, -0.03839725]],\n",
       "\n",
       "       [[-0.03896169, -0.03885144],\n",
       "        [-0.03814291, -0.03826772],\n",
       "        [-0.03815294, -0.03826608],\n",
       "        ...,\n",
       "        [-0.03813888, -0.03827612],\n",
       "        [-0.03815203, -0.03827021],\n",
       "        [-0.03820124, -0.03808545]],\n",
       "\n",
       "       [[-0.03890845, -0.03883635],\n",
       "        [-0.03808166, -0.03824124],\n",
       "        [-0.0380916 , -0.03824516],\n",
       "        ...,\n",
       "        [-0.03808969, -0.03825293],\n",
       "        [-0.03810644, -0.03825474],\n",
       "        [-0.03820846, -0.03807743]],\n",
       "\n",
       "       ...,\n",
       "\n",
       "       [[-0.03892663, -0.03883772],\n",
       "        [-0.03810428, -0.03824574],\n",
       "        [-0.03812084, -0.03824756],\n",
       "        ...,\n",
       "        [-0.03809588, -0.03825051],\n",
       "        [-0.03811818, -0.03824834],\n",
       "        [-0.03818386, -0.03806935]],\n",
       "\n",
       "       [[-0.03891886, -0.03884017],\n",
       "        [-0.03811199, -0.03824915],\n",
       "        [-0.03810555, -0.0382477 ],\n",
       "        ...,\n",
       "        [-0.03809885, -0.03824917],\n",
       "        [-0.03810091, -0.03824862],\n",
       "        [-0.03818429, -0.03807224]],\n",
       "\n",
       "       [[-0.03906435, -0.03912314],\n",
       "        [-0.03845829, -0.03865   ],\n",
       "        [-0.03847436, -0.03865094],\n",
       "        ...,\n",
       "        [-0.03845535, -0.03865116],\n",
       "        [-0.03846842, -0.03865159],\n",
       "        [-0.03848163, -0.03849474]]])"
      ]
     },
     "execution_count": 31,
     "metadata": {},
     "output_type": "execute_result"
    }
   ],
   "source": [
    "predicted_trac_field_dict[\"trac\"]"
   ]
  },
  {
   "cell_type": "code",
   "execution_count": 32,
   "id": "45158d2b",
   "metadata": {},
   "outputs": [],
   "source": [
    "savemat('/home/alexrichard/LRZ Sync+Share/ML in Physics/DL-TFM-main/torch_pred.mat', predicted_trac_field_dict)"
   ]
  },
  {
   "cell_type": "markdown",
   "id": "cb1266db",
   "metadata": {},
   "source": [
    "Load the prediction of the Matlab model"
   ]
  },
  {
   "cell_type": "code",
   "execution_count": 33,
   "id": "0a8b65a9",
   "metadata": {},
   "outputs": [],
   "source": [
    "matlab_prediction = loadmat('/home/alexrichard/LRZ Sync+Share/ML in Physics/DL-TFM-main/pred.mat')"
   ]
  },
  {
   "cell_type": "code",
   "execution_count": 34,
   "id": "a430ac91",
   "metadata": {},
   "outputs": [],
   "source": [
    "matlab_predicted_trac_field = np.array(matlab_prediction['ans'])"
   ]
  },
  {
   "cell_type": "code",
   "execution_count": 35,
   "id": "bb1b9237",
   "metadata": {},
   "outputs": [
    {
     "data": {
      "text/plain": [
       "(104, 104, 2)"
      ]
     },
     "execution_count": 35,
     "metadata": {},
     "output_type": "execute_result"
    }
   ],
   "source": [
    "matlab_predicted_trac_field.shape"
   ]
  },
  {
   "cell_type": "code",
   "execution_count": 36,
   "id": "9d1e2414",
   "metadata": {},
   "outputs": [],
   "source": [
    "matlab_predicted_trac_field = np.array(matlab_prediction['ans'])[np.newaxis, :]\n",
    "matlab_predicted_trac_field = np.moveaxis(matlab_predicted_trac_field[:, np.newaxis], [2, 3, 4], [-1, 3, 2])\n",
    "matlab_predicted_trac_field = torch.from_numpy(matlab_predicted_trac_field).double()"
   ]
  },
  {
   "cell_type": "code",
   "execution_count": 37,
   "id": "ab0b6cf0",
   "metadata": {},
   "outputs": [],
   "source": [
    "def forward(predictions, target):\n",
    "    loss = 0.5 * torch.sum(torch.pow(target - predictions, 2))\n",
    "    return loss"
   ]
  },
  {
   "cell_type": "code",
   "execution_count": 38,
   "id": "ce1bea73",
   "metadata": {},
   "outputs": [
    {
     "ename": "RuntimeError",
     "evalue": "The size of tensor a (104) must match the size of tensor b (2) at non-singleton dimension 4",
     "output_type": "error",
     "traceback": [
      "\u001b[0;31m---------------------------------------------------------------------------\u001b[0m",
      "\u001b[0;31mRuntimeError\u001b[0m                              Traceback (most recent call last)",
      "Input \u001b[0;32mIn [38]\u001b[0m, in \u001b[0;36m<module>\u001b[0;34m\u001b[0m\n\u001b[0;32m----> 1\u001b[0m \u001b[43mforward\u001b[49m\u001b[43m(\u001b[49m\u001b[43mpredicted_trac_field\u001b[49m\u001b[43m,\u001b[49m\u001b[43m \u001b[49m\u001b[43mgt_trac_field\u001b[49m\u001b[43m)\u001b[49m\n",
      "Input \u001b[0;32mIn [37]\u001b[0m, in \u001b[0;36mforward\u001b[0;34m(predictions, target)\u001b[0m\n\u001b[1;32m      1\u001b[0m \u001b[38;5;28;01mdef\u001b[39;00m \u001b[38;5;21mforward\u001b[39m(predictions, target):\n\u001b[0;32m----> 2\u001b[0m     loss \u001b[38;5;241m=\u001b[39m \u001b[38;5;241m0.5\u001b[39m \u001b[38;5;241m*\u001b[39m torch\u001b[38;5;241m.\u001b[39msum(torch\u001b[38;5;241m.\u001b[39mpow(\u001b[43mtarget\u001b[49m\u001b[43m \u001b[49m\u001b[38;5;241;43m-\u001b[39;49m\u001b[43m \u001b[49m\u001b[43mpredictions\u001b[49m, \u001b[38;5;241m2\u001b[39m))\n\u001b[1;32m      3\u001b[0m     \u001b[38;5;28;01mreturn\u001b[39;00m loss\n",
      "\u001b[0;31mRuntimeError\u001b[0m: The size of tensor a (104) must match the size of tensor b (2) at non-singleton dimension 4"
     ]
    }
   ],
   "source": [
    "forward(predicted_trac_field, gt_trac_field)"
   ]
  },
  {
   "cell_type": "code",
   "execution_count": null,
   "id": "69ec0f44",
   "metadata": {},
   "outputs": [],
   "source": [
    "forward(matlab_predicted_trac_field, gt_trac_field)"
   ]
  },
  {
   "cell_type": "code",
   "execution_count": null,
   "id": "2d25a068",
   "metadata": {},
   "outputs": [],
   "source": [
    "torch.allclose(predicted_trac_field,matlab_predicted_trac_field, atol=5)"
   ]
  },
  {
   "cell_type": "code",
   "execution_count": null,
   "id": "363728f5",
   "metadata": {},
   "outputs": [],
   "source": [
    "predicted_trac_field"
   ]
  },
  {
   "cell_type": "code",
   "execution_count": null,
   "id": "53971fc1",
   "metadata": {},
   "outputs": [],
   "source": [
    "matlab_predicted_trac_field"
   ]
  },
  {
   "cell_type": "markdown",
   "id": "c6da5177",
   "metadata": {},
   "source": [
    "## Visualize data"
   ]
  },
  {
   "cell_type": "code",
   "execution_count": null,
   "id": "d4ce84bc",
   "metadata": {},
   "outputs": [],
   "source": [
    "import shapely as sh"
   ]
  },
  {
   "cell_type": "code",
   "execution_count": null,
   "id": "1e632f2e",
   "metadata": {},
   "outputs": [],
   "source": [
    "def plotDspl(sample):\n",
    "    zipped = np.array(list(zip(sample['brdx'][0], sample['brdy'][0])))  # array with (x,y) pairs of cell border coordinates\n",
    "    polygon = sh.geometry.Polygon(zipped)  # create polygon\n",
    "\n",
    "    interior = np.zeros((sample['dspl'].shape[0], sample['dspl'].shape[1]), dtype=int)  # create all zero matrix\n",
    "    for i in range(len(interior)):  # set all elements in interior matrix to 1 that actually lie within the cell\n",
    "        for j in range(len(interior[i])):\n",
    "            point = Point(i, j)\n",
    "            if polygon.contains(point):\n",
    "                interior[i][j] = 1\n",
    "\n",
    "    # plot polygon using geopandas\n",
    "    p = gpd.GeoSeries(polygon)\n",
    "    p.plot()\n",
    "    plt.show()"
   ]
  },
  {
   "cell_type": "code",
   "execution_count": null,
   "id": "f559bdfa",
   "metadata": {},
   "outputs": [],
   "source": [
    "plotDspl(sample)"
   ]
  },
  {
   "cell_type": "code",
   "execution_count": null,
   "id": "11b72867",
   "metadata": {},
   "outputs": [],
   "source": []
  },
  {
   "cell_type": "code",
   "execution_count": null,
   "id": "931d5dc3",
   "metadata": {},
   "outputs": [],
   "source": []
  }
 ],
 "metadata": {
  "kernelspec": {
   "display_name": "Python 3 (ipykernel)",
   "language": "python",
   "name": "python3"
  },
  "language_info": {
   "codemirror_mode": {
    "name": "ipython",
    "version": 3
   },
   "file_extension": ".py",
   "mimetype": "text/x-python",
   "name": "python",
   "nbconvert_exporter": "python",
   "pygments_lexer": "ipython3",
   "version": "3.8.10"
  }
 },
 "nbformat": 4,
 "nbformat_minor": 5
}
