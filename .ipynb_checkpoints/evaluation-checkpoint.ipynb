{
 "cells": [
  {
   "cell_type": "markdown",
   "id": "de318b0d",
   "metadata": {},
   "source": [
    "# DL-TFM in Pytorch II"
   ]
  },
  {
   "cell_type": "code",
   "execution_count": 1,
   "id": "66769511",
   "metadata": {},
   "outputs": [],
   "source": [
    "from tracNet import TracNet\n",
    "\n",
    "import copy\n",
    "import datetime\n",
    "import gc\n",
    "import geopandas as gpd\n",
    "import matplotlib.pyplot as plt\n",
    "import numpy as np\n",
    "import os\n",
    "import torch\n",
    "import torch.nn as nn\n",
    "import torch.nn.functional as F\n",
    "\n",
    "from scipy.io import loadmat, savemat\n",
    "from shapely.geometry import Point\n",
    "from sklearn.model_selection import train_test_split\n",
    "from torch.optim.lr_scheduler import StepLR\n",
    "from torch.utils.data import TensorDataset, DataLoader\n",
    "from torch.utils.tensorboard import SummaryWriter\n",
    "from torchinfo import summary\n",
    "\n",
    "%matplotlib inline"
   ]
  },
  {
   "cell_type": "markdown",
   "id": "b1e43fc7",
   "metadata": {},
   "source": [
    "Set seeds for reproducability."
   ]
  },
  {
   "cell_type": "code",
   "execution_count": 2,
   "id": "536fc591",
   "metadata": {},
   "outputs": [],
   "source": [
    "random_seed = 1\n",
    "np.random.seed(random_seed)\n",
    "torch.manual_seed(random_seed)\n",
    "torch.cuda.manual_seed(random_seed)\n",
    "torch.backends.cudnn.benchmark = False"
   ]
  },
  {
   "cell_type": "markdown",
   "id": "8d1f9b75",
   "metadata": {},
   "source": [
    "Use CUDA if available."
   ]
  },
  {
   "cell_type": "code",
   "execution_count": 3,
   "id": "0a4b4d16",
   "metadata": {},
   "outputs": [
    {
     "name": "stdout",
     "output_type": "stream",
     "text": [
      "Running on device: cuda\n"
     ]
    }
   ],
   "source": [
    "gc.collect()\n",
    "torch.cuda.empty_cache()\n",
    "device = torch.device('cuda') if torch.cuda.is_available() else torch.device('cpu')\n",
    "print(f\"Running on device: {device}\")"
   ]
  },
  {
   "cell_type": "markdown",
   "id": "7a1a741a",
   "metadata": {},
   "source": [
    "## 3. Evaluation"
   ]
  },
  {
   "cell_type": "markdown",
   "id": "conditional-syndicate",
   "metadata": {},
   "source": [
    "Specify paths to test data."
   ]
  },
  {
   "cell_type": "code",
   "execution_count": 1,
   "id": "choice-credit",
   "metadata": {},
   "outputs": [],
   "source": [
    "# Test data\n",
    "# test_dspl_path = '/home/alexrichard/LRZ Sync+Share/ML in Physics/Repos/DL-TFM-main/test/generic/testData104/dspl'\n",
    "# test_trac_path = '/home/alexrichard/LRZ Sync+Share/ML in Physics/Repos/DL-TFM-main/test/generic/testData104/trac'\n",
    "test_dspl_path_home = '/Users/alex/LRZ Sync+Share/ML in Physics/Repos/DL-TFM-main/test/generic/testData104/dspl'\n",
    "test_trac_path_home = '/Users/alex/LRZ Sync+Share/ML in Physics/Repos/DL-TFM-main/test/generic/testData104/trac'"
   ]
  },
  {
   "cell_type": "markdown",
   "id": "pediatric-month",
   "metadata": {},
   "source": [
    "Create `ndarrays` of `dicts` containing either the inputs or targets."
   ]
  },
  {
   "cell_type": "code",
   "execution_count": 2,
   "id": "mighty-police",
   "metadata": {},
   "outputs": [
    {
     "ename": "NameError",
     "evalue": "name 'matFiles_to_npArray' is not defined",
     "output_type": "error",
     "traceback": [
      "\u001b[0;31m---------------------------------------------------------------------------\u001b[0m",
      "\u001b[0;31mNameError\u001b[0m                                 Traceback (most recent call last)",
      "\u001b[0;32m<ipython-input-2-272982a63e02>\u001b[0m in \u001b[0;36m<module>\u001b[0;34m\u001b[0m\n\u001b[0;32m----> 1\u001b[0;31m \u001b[0mX_test\u001b[0m \u001b[0;34m=\u001b[0m \u001b[0mmatFiles_to_npArray\u001b[0m\u001b[0;34m(\u001b[0m\u001b[0mtest_dspl_path_home\u001b[0m\u001b[0;34m)\u001b[0m \u001b[0;31m# each dict has keys ['brdx', 'brdy', 'dspl', 'name']\u001b[0m\u001b[0;34m\u001b[0m\u001b[0;34m\u001b[0m\u001b[0m\n\u001b[0m\u001b[1;32m      2\u001b[0m \u001b[0my_test\u001b[0m \u001b[0;34m=\u001b[0m \u001b[0mmatFiles_to_npArray\u001b[0m\u001b[0;34m(\u001b[0m\u001b[0mtest_trac_path_home\u001b[0m\u001b[0;34m)\u001b[0m \u001b[0;31m# each dict has keys ['brdx', 'brdy', 'trac', 'name']\u001b[0m\u001b[0;34m\u001b[0m\u001b[0;34m\u001b[0m\u001b[0m\n",
      "\u001b[0;31mNameError\u001b[0m: name 'matFiles_to_npArray' is not defined"
     ]
    }
   ],
   "source": [
    "X_test = matFiles_to_npArray(test_dspl_path_home) # each dict has keys ['brdx', 'brdy', 'dspl', 'name']\n",
    "y_test = matFiles_to_npArray(test_trac_path_home) # each dict has keys ['brdx', 'brdy', 'trac', 'name']"
   ]
  },
  {
   "cell_type": "code",
   "execution_count": null,
   "id": "prerequisite-firmware",
   "metadata": {},
   "outputs": [],
   "source": []
  },
  {
   "cell_type": "code",
   "execution_count": null,
   "id": "local-ontario",
   "metadata": {},
   "outputs": [],
   "source": []
  },
  {
   "cell_type": "code",
   "execution_count": null,
   "id": "technical-enemy",
   "metadata": {},
   "outputs": [],
   "source": []
  },
  {
   "cell_type": "markdown",
   "id": "5a66ba1b",
   "metadata": {},
   "source": [
    "Load model and test set."
   ]
  },
  {
   "cell_type": "code",
   "execution_count": null,
   "id": "separate-sperm",
   "metadata": {},
   "outputs": [],
   "source": []
  },
  {
   "cell_type": "code",
   "execution_count": 4,
   "id": "8f81f6ac",
   "metadata": {
    "scrolled": false
   },
   "outputs": [
    {
     "data": {
      "text/plain": [
       "TracNet(\n",
       "  (s1): ConvBlock_1(\n",
       "    (conv_block_1): Sequential(\n",
       "      (0): Conv3d(1, 32, kernel_size=(2, 3, 3), stride=(1, 1, 1), padding=same, bias=False)\n",
       "      (1): BatchNorm3d(32, eps=1e-05, momentum=0.1, affine=True, track_running_stats=True)\n",
       "      (2): ReLU(inplace=True)\n",
       "    )\n",
       "  )\n",
       "  (s2): ConvBlock_2(\n",
       "    (conv_block_2): Sequential(\n",
       "      (0): Conv3d(32, 64, kernel_size=(2, 3, 3), stride=(1, 1, 1), padding=same)\n",
       "      (1): ReLU(inplace=True)\n",
       "    )\n",
       "  )\n",
       "  (s3): MaxPool3d(kernel_size=(1, 2, 2), stride=(1, 2, 2), padding=0, dilation=1, ceil_mode=False)\n",
       "  (s4): ConvBlock_1(\n",
       "    (conv_block_1): Sequential(\n",
       "      (0): Conv3d(64, 64, kernel_size=(2, 3, 3), stride=(1, 1, 1), padding=same, bias=False)\n",
       "      (1): BatchNorm3d(64, eps=1e-05, momentum=0.1, affine=True, track_running_stats=True)\n",
       "      (2): ReLU(inplace=True)\n",
       "    )\n",
       "  )\n",
       "  (s5): ConvBlock_2(\n",
       "    (conv_block_2): Sequential(\n",
       "      (0): Conv3d(64, 128, kernel_size=(2, 3, 3), stride=(1, 1, 1), padding=same)\n",
       "      (1): ReLU(inplace=True)\n",
       "    )\n",
       "  )\n",
       "  (s6): MaxPool3d(kernel_size=(1, 2, 2), stride=(1, 2, 2), padding=0, dilation=1, ceil_mode=False)\n",
       "  (s7): ConvBlock_1(\n",
       "    (conv_block_1): Sequential(\n",
       "      (0): Conv3d(128, 128, kernel_size=(2, 3, 3), stride=(1, 1, 1), padding=same, bias=False)\n",
       "      (1): BatchNorm3d(128, eps=1e-05, momentum=0.1, affine=True, track_running_stats=True)\n",
       "      (2): ReLU(inplace=True)\n",
       "    )\n",
       "  )\n",
       "  (s8): ConvBlock_2(\n",
       "    (conv_block_2): Sequential(\n",
       "      (0): Conv3d(128, 256, kernel_size=(2, 3, 3), stride=(1, 1, 1), padding=same)\n",
       "      (1): ReLU(inplace=True)\n",
       "    )\n",
       "  )\n",
       "  (s9): MaxPool3d(kernel_size=(1, 2, 2), stride=(1, 2, 2), padding=0, dilation=1, ceil_mode=False)\n",
       "  (s10): ConvBlock_1(\n",
       "    (conv_block_1): Sequential(\n",
       "      (0): Conv3d(256, 128, kernel_size=(2, 3, 3), stride=(1, 1, 1), padding=same, bias=False)\n",
       "      (1): BatchNorm3d(128, eps=1e-05, momentum=0.1, affine=True, track_running_stats=True)\n",
       "      (2): ReLU(inplace=True)\n",
       "    )\n",
       "  )\n",
       "  (s11): ConvBlock_1(\n",
       "    (conv_block_1): Sequential(\n",
       "      (0): Conv3d(128, 256, kernel_size=(2, 3, 3), stride=(1, 1, 1), padding=same, bias=False)\n",
       "      (1): BatchNorm3d(256, eps=1e-05, momentum=0.1, affine=True, track_running_stats=True)\n",
       "      (2): ReLU(inplace=True)\n",
       "    )\n",
       "  )\n",
       "  (s12): ConvTranspose3d(256, 256, kernel_size=(1, 3, 3), stride=(1, 2, 2))\n",
       "  (s13): ConvBlock_1(\n",
       "    (conv_block_1): Sequential(\n",
       "      (0): Conv3d(512, 64, kernel_size=(2, 3, 3), stride=(1, 1, 1), padding=same, bias=False)\n",
       "      (1): BatchNorm3d(64, eps=1e-05, momentum=0.1, affine=True, track_running_stats=True)\n",
       "      (2): ReLU(inplace=True)\n",
       "    )\n",
       "  )\n",
       "  (s14): ConvBlock_1(\n",
       "    (conv_block_1): Sequential(\n",
       "      (0): Conv3d(64, 128, kernel_size=(2, 3, 3), stride=(1, 1, 1), padding=same, bias=False)\n",
       "      (1): BatchNorm3d(128, eps=1e-05, momentum=0.1, affine=True, track_running_stats=True)\n",
       "      (2): ReLU(inplace=True)\n",
       "    )\n",
       "  )\n",
       "  (s15): ConvTranspose3d(128, 128, kernel_size=(1, 3, 3), stride=(1, 2, 2))\n",
       "  (s16): ConvBlock_1(\n",
       "    (conv_block_1): Sequential(\n",
       "      (0): Conv3d(256, 32, kernel_size=(2, 3, 3), stride=(1, 1, 1), padding=same, bias=False)\n",
       "      (1): BatchNorm3d(32, eps=1e-05, momentum=0.1, affine=True, track_running_stats=True)\n",
       "      (2): ReLU(inplace=True)\n",
       "    )\n",
       "  )\n",
       "  (s17): ConvBlock_1(\n",
       "    (conv_block_1): Sequential(\n",
       "      (0): Conv3d(32, 64, kernel_size=(2, 3, 3), stride=(1, 1, 1), padding=same, bias=False)\n",
       "      (1): BatchNorm3d(64, eps=1e-05, momentum=0.1, affine=True, track_running_stats=True)\n",
       "      (2): ReLU(inplace=True)\n",
       "    )\n",
       "  )\n",
       "  (s18): ConvTranspose3d(64, 64, kernel_size=(1, 3, 3), stride=(1, 2, 2))\n",
       "  (s19): ConvBlock_1(\n",
       "    (conv_block_1): Sequential(\n",
       "      (0): Conv3d(128, 1, kernel_size=(2, 3, 3), stride=(1, 1, 1), padding=same, bias=False)\n",
       "      (1): BatchNorm3d(1, eps=1e-05, momentum=0.1, affine=True, track_running_stats=True)\n",
       "      (2): ReLU(inplace=True)\n",
       "    )\n",
       "  )\n",
       "  (s20): ConvBlock_1(\n",
       "    (conv_block_1): Sequential(\n",
       "      (0): Conv3d(1, 32, kernel_size=(2, 3, 3), stride=(1, 1, 1), padding=same, bias=False)\n",
       "      (1): BatchNorm3d(32, eps=1e-05, momentum=0.1, affine=True, track_running_stats=True)\n",
       "      (2): ReLU(inplace=True)\n",
       "    )\n",
       "  )\n",
       "  (s21): Conv3d(32, 1, kernel_size=(2, 3, 3), stride=(1, 1, 1), padding=same)\n",
       ")"
      ]
     },
     "execution_count": 4,
     "metadata": {},
     "output_type": "execute_result"
    }
   ],
   "source": [
    "model = TracNet(n_channels=1).double()\n",
    "model.load_state_dict(torch.load('/home/alexrichard/LRZ Sync+Share/ML in Physics/Models/TracNet104-2022-May-12 19:12:09.pth'), strict=False)\n",
    "model.eval()"
   ]
  },
  {
   "cell_type": "code",
   "execution_count": null,
   "id": "bef83b4b",
   "metadata": {},
   "outputs": [],
   "source": []
  },
  {
   "cell_type": "markdown",
   "id": "f2cfe354",
   "metadata": {},
   "source": [
    "## 4. Data visualization"
   ]
  }
 ],
 "metadata": {
  "kernelspec": {
   "display_name": "Python 3",
   "language": "python",
   "name": "python3"
  },
  "language_info": {
   "codemirror_mode": {
    "name": "ipython",
    "version": 3
   },
   "file_extension": ".py",
   "mimetype": "text/x-python",
   "name": "python",
   "nbconvert_exporter": "python",
   "pygments_lexer": "ipython3",
   "version": "3.9.2"
  }
 },
 "nbformat": 4,
 "nbformat_minor": 5
}
