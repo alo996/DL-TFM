{
 "cells": [
  {
   "cell_type": "markdown",
   "id": "edd3f144",
   "metadata": {},
   "source": [
    "## Imports"
   ]
  },
  {
   "cell_type": "code",
   "execution_count": 1,
   "id": "8e78ffcb",
   "metadata": {},
   "outputs": [
    {
     "name": "stderr",
     "output_type": "stream",
     "text": [
      "2022-03-30 10:09:58.707153: W tensorflow/stream_executor/platform/default/dso_loader.cc:64] Could not load dynamic library 'libcudart.so.11.0'; dlerror: libcudart.so.11.0: cannot open shared object file: No such file or directory\n",
      "2022-03-30 10:09:58.707177: I tensorflow/stream_executor/cuda/cudart_stub.cc:29] Ignore above cudart dlerror if you do not have a GPU set up on your machine.\n"
     ]
    }
   ],
   "source": [
    "import numpy as np\n",
    "from scipy.io import loadmat\n",
    "import shapely as sh\n",
    "from shapely.geometry import Point\n",
    "import matplotlib.pyplot as plt\n",
    "import geopandas as gpd\n",
    "\n",
    "import tensorflow as tf\n",
    "import tensorflow.math as math\n",
    "from tensorflow.keras.optimizers import SGD\n",
    "from tensorflow.keras.losses import MeanSquaredError\n",
    "from tensorflow.keras.metrics import Accuracy, RootMeanSquaredError, MeanAbsoluteError\n",
    "from tensorflow.keras.callbacks import LearningRateScheduler, TensorBoard\n",
    "from tensorflow.keras.models import Model\n",
    "from tensorflow.keras.initializers import RandomNormal\n",
    "from tensorflow.keras.layers import Input, Conv3D, MaxPooling3D, Conv3DTranspose, BatchNormalization, Activation, \\\n",
    "    Concatenate\n",
    "\n",
    "import os\n",
    "from sklearn.model_selection import train_test_split\n",
    "import time\n",
    "%matplotlib inline"
   ]
  },
  {
   "cell_type": "markdown",
   "id": "eec28190",
   "metadata": {},
   "source": [
    "## Data loading and preprocessing"
   ]
  },
  {
   "cell_type": "markdown",
   "id": "b702a3dd",
   "metadata": {},
   "source": [
    "Specify paths to the training data"
   ]
  },
  {
   "cell_type": "code",
   "execution_count": 2,
   "id": "7ff49bd7",
   "metadata": {},
   "outputs": [],
   "source": [
    "# For working remotely on CIP machines\n",
    "# dspl_path = '/home/r/richard/Downloads/train/trainData104/dspl'\n",
    "# dsplRadial_path = '/home/r/richard/Downloads/train/trainData104/dsplRadial'\n",
    "# trac_path = '/home/r/richard/Downloads/train/trainData104/trac'\n",
    "# tracRadial_path = '/home/r/richard/Downloads/train/trainData104/tracRadial'\n",
    "\n",
    "# Paths to small subsets of original data for bug fixing\n",
    "# foo_dspl_path = '/home/r/richard/Downloads/train/trainData104/foo_dspl'\n",
    "# foo_dsplRadial_path = '/home/r/richard/Downloads/train/trainData104/foo_dsplRadial'\n",
    "# foo_trac_path = '/home/r/richard/Downloads/train/trainData104/foo_trac'\n",
    "# foo_tracRadial_path = '/home/r/richard/Downloads/train/trainData104/foo_tracRadial'"
   ]
  },
  {
   "cell_type": "code",
   "execution_count": 3,
   "id": "a4c6febe",
   "metadata": {},
   "outputs": [],
   "source": [
    "# For working on Martinsried machine\n",
    "dspl_path = '/home/alexrichard/LRZ Sync+Share/ML in Physics/DL-TFM-main/train/trainData104/dspl'\n",
    "dsplRadial_path = '/home/alexrichard/LRZ Sync+Share/ML in Physics/DL-TFM-main/train/trainData104/dsplRadial'\n",
    "trac_path = '/home/alexrichard/LRZ Sync+Share/ML in Physics/DL-TFM-main/train/trainData104/trac'\n",
    "tracRadial_path = '/home/alexrichard/LRZ Sync+Share/ML in Physics/DL-TFM-main/train/trainData104/tracRadial'\n",
    "\n",
    "# Paths to small subsets of original data for bug fixing\n",
    "#foo_dspl_path = '/home/alexrichard/LRZ Sync+Share/ML in Physics/data/train/trainData104/foo_dspl'\n",
    "#foo_dsplRadial_path = '/home/alexrichard/LRZ Sync+Share/ML in Physics/data/train/trainData104/foo_dsplRadial'\n",
    "#foo_trac_path = '/home/alexrichard/LRZ Sync+Share/ML in Physics/data/train/trainData104/foo_trac'\n",
    "#foo_tracRadial_path = '/home/alexrichard/LRZ Sync+Share/ML in Physics/data/train/trainData104/foo_tracRadial'"
   ]
  },
  {
   "cell_type": "markdown",
   "id": "2c0a86c4",
   "metadata": {},
   "source": [
    "`datasets` saves the training and test data in arrays of dictionaries of the form {'brdx': array, 'brdy': array, 'dspl' or 'trac' = array, 'name': String}"
   ]
  },
  {
   "cell_type": "code",
   "execution_count": 4,
   "id": "f8ec6194",
   "metadata": {},
   "outputs": [],
   "source": [
    "def datasets(dspl_path, dsplRadial_path, trac_path, tracRadial_path):\n",
    "    number_samples = len([name for name in os.listdir(dspl_path) if os.path.isfile(os.path.join(dspl_path, name))])\n",
    "    number_radials = len([name for name in os.listdir(dsplRadial_path) if os.path.isfile(os.path.join(dsplRadial_path, name))])\n",
    "    \n",
    "    # save all samples in matrix\n",
    "    samples = [] \n",
    "    for i, filename in enumerate(os.listdir(dspl_path)):\n",
    "        f = os.path.join(dspl_path, filename)\n",
    "        if os.path.isfile(f):\n",
    "            sample = loadmat(f)\n",
    "            if '__header__' in sample: del sample['__header__']\n",
    "            if '__version__' in sample: del sample['__version__']\n",
    "            if '__globals__' in sample: del sample['__globals__']\n",
    "            sample['name'] = filename\n",
    "            samples = np.append(samples, sample)\n",
    "        else:\n",
    "            continue\n",
    "    samples = np.array(samples)\n",
    "\n",
    "    # save all radial patterns of displacements in matrix\n",
    "    dspl_radials = []\n",
    "    for i, filename in enumerate(os.listdir(dsplRadial_path)):\n",
    "        f = os.path.join(dsplRadial_path, filename)\n",
    "        if os.path.isfile(f):\n",
    "            radial = loadmat(f)\n",
    "            if '__header__' in radial: del radial['__header__']\n",
    "            if '__version__' in radial: del radial['__version__']\n",
    "            if '__globals__' in radial: del radial['__globals__']\n",
    "            radial['name'] = filename\n",
    "            dspl_radials = np.append(dspl_radials, radial)\n",
    "        else:\n",
    "            continue\n",
    "    dspl_radials = np.array(dspl_radials)\n",
    "    \n",
    "    # save all targets in matrix\n",
    "    targets = []\n",
    "    for i, filename in enumerate(os.listdir(trac_path)):\n",
    "        f = os.path.join(trac_path, filename)\n",
    "        if os.path.isfile(f):\n",
    "            target = loadmat(f)\n",
    "            if '__header__' in target: del target['__header__']\n",
    "            if '__version__' in target: del target['__version__']\n",
    "            if '__globals__' in target: del target['__globals__']\n",
    "            target['name'] = filename\n",
    "            targets = np.append(targets, target)\n",
    "        else:\n",
    "            continue \n",
    "    targets = np.array(targets)\n",
    "    \n",
    "    # save all radial patterns of traction forces in matrix\n",
    "    trac_radials = []\n",
    "    for i, filename in enumerate(os.listdir(tracRadial_path)):\n",
    "        f = os.path.join(tracRadial_path, filename)\n",
    "        if os.path.isfile(f):\n",
    "            radial = loadmat(f)\n",
    "            if '__header__' in radial: del radial['__header__']\n",
    "            if '__version__' in radial: del radial['__version__']\n",
    "            if '__globals__' in radial: del radial['__globals__']\n",
    "            radial['name'] = filename\n",
    "            trac_radials = np.append(trac_radials, radial)\n",
    "        else:\n",
    "            continue\n",
    "    trac_radials = np.array(trac_radials)\n",
    "\n",
    "    return samples, dspl_radials, targets, trac_radials"
   ]
  },
  {
   "cell_type": "markdown",
   "id": "c4551822",
   "metadata": {},
   "source": [
    "Set seed for reproducability and generate the training, validation and test data"
   ]
  },
  {
   "cell_type": "code",
   "execution_count": 5,
   "id": "6f99d68b",
   "metadata": {},
   "outputs": [],
   "source": [
    "np.random.seed(123)\n",
    "\n",
    "samples, dspl_radials, targets, trac_radials = datasets(dspl_path, dsplRadial_path, trac_path, tracRadial_path)\n",
    "samples, targets = np.append(samples, dspl_radials), np.append(targets, trac_radials)\n",
    "\n",
    "X, y = np.array([sample['dspl'] for sample in samples]), np.array([target['trac'] for target in targets])\n",
    "\n",
    "X_train, X_val, y_train, y_val = train_test_split(X, y, test_size=0.2, random_state=1)\n",
    "X_train, X_val, y_train, y_val = X_train.reshape(((len(X_train), 104, 104, 2, 1))), X_val.reshape(((len(X_val), 104, 104, 2, 1))), y_train.reshape(((len(y_train), 104, 104, 2, 1))), y_val.reshape(((len(y_val), 104, 104, 2, 1)))"
   ]
  },
  {
   "cell_type": "code",
   "execution_count": 6,
   "id": "b829b73e",
   "metadata": {
    "scrolled": false
   },
   "outputs": [
    {
     "name": "stderr",
     "output_type": "stream",
     "text": [
      "2022-03-30 10:10:01.989390: I tensorflow/stream_executor/cuda/cuda_gpu_executor.cc:939] successful NUMA node read from SysFS had negative value (-1), but there must be at least one NUMA node, so returning NUMA node zero\n",
      "2022-03-30 10:10:01.989889: W tensorflow/stream_executor/platform/default/dso_loader.cc:64] Could not load dynamic library 'libcudart.so.11.0'; dlerror: libcudart.so.11.0: cannot open shared object file: No such file or directory\n",
      "2022-03-30 10:10:01.989946: W tensorflow/stream_executor/platform/default/dso_loader.cc:64] Could not load dynamic library 'libcublas.so.11'; dlerror: libcublas.so.11: cannot open shared object file: No such file or directory\n",
      "2022-03-30 10:10:01.989998: W tensorflow/stream_executor/platform/default/dso_loader.cc:64] Could not load dynamic library 'libcublasLt.so.11'; dlerror: libcublasLt.so.11: cannot open shared object file: No such file or directory\n",
      "2022-03-30 10:10:01.991909: W tensorflow/stream_executor/platform/default/dso_loader.cc:64] Could not load dynamic library 'libcusolver.so.11'; dlerror: libcusolver.so.11: cannot open shared object file: No such file or directory\n",
      "2022-03-30 10:10:01.991971: W tensorflow/stream_executor/platform/default/dso_loader.cc:64] Could not load dynamic library 'libcusparse.so.11'; dlerror: libcusparse.so.11: cannot open shared object file: No such file or directory\n",
      "2022-03-30 10:10:01.992028: W tensorflow/stream_executor/platform/default/dso_loader.cc:64] Could not load dynamic library 'libcudnn.so.8'; dlerror: libcudnn.so.8: cannot open shared object file: No such file or directory\n",
      "2022-03-30 10:10:01.992039: W tensorflow/core/common_runtime/gpu/gpu_device.cc:1850] Cannot dlopen some GPU libraries. Please make sure the missing libraries mentioned above are installed properly if you would like to use GPU. Follow the guide at https://www.tensorflow.org/install/gpu for how to download and setup the required libraries for your platform.\n",
      "Skipping registering GPU devices...\n",
      "2022-03-30 10:10:01.992755: I tensorflow/core/platform/cpu_feature_guard.cc:151] This TensorFlow binary is optimized with oneAPI Deep Neural Network Library (oneDNN) to use the following CPU instructions in performance-critical operations:  AVX2 FMA\n",
      "To enable them in other operations, rebuild TensorFlow with the appropriate compiler flags.\n"
     ]
    }
   ],
   "source": [
    "X_train = tf.convert_to_tensor(X_train)\n",
    "y_train = tf.convert_to_tensor(y_train)\n",
    "X_val = tf.convert_to_tensor(X_val)\n",
    "y_val = tf.convert_to_tensor(y_val)\n",
    "\n",
    "# Normalize\n",
    "# X_train = tf.linalg.normalize(X_train, axis=(1,2))"
   ]
  },
  {
   "cell_type": "code",
   "execution_count": 8,
   "id": "2f2be6ed",
   "metadata": {},
   "outputs": [],
   "source": [
    "batch_size = 32"
   ]
  },
  {
   "cell_type": "markdown",
   "id": "073614e0",
   "metadata": {},
   "source": [
    "Create tf.Dataset objects"
   ]
  },
  {
   "cell_type": "code",
   "execution_count": 9,
   "id": "69bf558b",
   "metadata": {
    "scrolled": true
   },
   "outputs": [],
   "source": [
    "train_dataset = tf.data.Dataset.from_tensor_slices((X_train, y_train))\n",
    "val_dataset = tf.data.Dataset.from_tensor_slices((X_val, y_val))\n",
    "\n",
    "train_dataset = train_dataset.batch(batch_size)\n",
    "val_dataset = val_dataset.batch(batch_size)"
   ]
  },
  {
   "cell_type": "markdown",
   "id": "251b1c31",
   "metadata": {},
   "source": [
    "## Build model"
   ]
  },
  {
   "cell_type": "markdown",
   "id": "6e937491",
   "metadata": {},
   "source": [
    "Specify the name and logs of the current model"
   ]
  },
  {
   "cell_type": "code",
   "execution_count": 10,
   "id": "dfe98667",
   "metadata": {},
   "outputs": [],
   "source": [
    "NAME = \"TracNet104-{}\".format(int(time.time()))\n",
    "tensorboard = TensorBoard(log_dir='logs/{}'.format(NAME))"
   ]
  },
  {
   "cell_type": "code",
   "execution_count": 11,
   "id": "5d671f11",
   "metadata": {},
   "outputs": [],
   "source": [
    "def conv_block_1(input, num_filters, trans_conv=False):\n",
    "    initializer = RandomNormal(mean=0.0, stddev=0.01)\n",
    "    x = Conv3D(filters=num_filters, kernel_size=(3, 3, 2), padding='same', kernel_initializer=initializer,\n",
    "               bias_initializer='zeros')(input)\n",
    "    x = BatchNormalization()(x)\n",
    "    x = Activation(\"relu\")(x)\n",
    "    if trans_conv:\n",
    "        x = Conv3DTranspose(filters=num_filters, kernel_size=(3, 3, 1), strides=(2, 2, 1),\n",
    "                        kernel_initializer=initializer, bias_initializer='zeros', padding='same')(x)\n",
    "\n",
    "    return x"
   ]
  },
  {
   "cell_type": "code",
   "execution_count": 12,
   "id": "6ff34644",
   "metadata": {},
   "outputs": [],
   "source": [
    "def conv_block_2(input, num_filters):\n",
    "    initializer = RandomNormal(mean=0.0, stddev=0.01)\n",
    "    x = Conv3D(filters=num_filters, kernel_size=(3, 3, 2), padding='same', kernel_initializer=initializer,\n",
    "               bias_initializer='zeros')(input)\n",
    "    x = Activation(\"relu\")(x)\n",
    "    \n",
    "    return x"
   ]
  },
  {
   "cell_type": "code",
   "execution_count": 13,
   "id": "43a13ee0",
   "metadata": {},
   "outputs": [],
   "source": [
    "def build_tracnet(input_shape, batch_size):\n",
    "    # entry point into graph of layers\n",
    "    inputs = Input(shape=input_shape, batch_size=batch_size)\n",
    "    \n",
    "    s1 = conv_block_1(inputs, 32)\n",
    "    print(tf.size(s1))\n",
    "    \n",
    "    s2 = conv_block_2(s1, 64)\n",
    "    \n",
    "    s3 = MaxPooling3D(pool_size=(2, 2, 1), strides=(2, 2, 1), padding='same')(s2)\n",
    "\n",
    "    s4 = conv_block_1(s3, 64)\n",
    "    \n",
    "    s5 = conv_block_2(s4, 128)\n",
    "    \n",
    "    s6 = MaxPooling3D(pool_size=(2, 2, 1), strides=(2, 2, 1), padding='same')(s5)\n",
    "\n",
    "    s7 = conv_block_1(s6, 128)\n",
    "    \n",
    "    s8 = conv_block_2(s7, 256)\n",
    "    \n",
    "    s9 = MaxPooling3D(pool_size=(2, 2, 1), strides=(2, 2, 1), padding='same')(s8)\n",
    "    \n",
    "    s10 = conv_block_1(s9, 128)\n",
    "    \n",
    "    s11 = conv_block_1(s10, 256, trans_conv=True)\n",
    "    \n",
    "    fusion3 = tf.concat([s8, s11], -1)\n",
    "    \n",
    "    s12 = conv_block_1(fusion3, 64)\n",
    "    \n",
    "    s13 = conv_block_1(s12, 128, trans_conv=True)\n",
    "    \n",
    "    fusion2 = tf.concat([s5, s13], -1)\n",
    "    \n",
    "    s14 = conv_block_1(fusion2, 32)\n",
    "    \n",
    "    s15 = conv_block_1(s14, 64, trans_conv=True)\n",
    "    \n",
    "    fusion1 = tf.concat([s2, s15], -1)\n",
    "    \n",
    "    s16 = conv_block_1(fusion1, 1)\n",
    "    \n",
    "    s17 = conv_block_1(s16, 32)\n",
    "    \n",
    "    initializer = RandomNormal(mean=0.0, stddev=0.01)\n",
    "    outputs = Conv3D(filters=1, kernel_size=(3, 3, 2), padding='same', kernel_initializer=initializer,\n",
    "                     bias_initializer='zeros')(s17)\n",
    "\n",
    "    # build model\n",
    "    model = Model(inputs, outputs, name=NAME)\n",
    "\n",
    "    return model"
   ]
  },
  {
   "cell_type": "markdown",
   "id": "b1a76cc6",
   "metadata": {},
   "source": [
    "## Training"
   ]
  },
  {
   "cell_type": "markdown",
   "id": "7496fc20",
   "metadata": {},
   "source": [
    "Define loss function as \n",
    "$${loss} = \\frac{1}{2} \\sum \\limits _{p=1} ^{HWC} (t_{p} - y_{p})^{2}$$\n",
    "Idea: compare ground truth and prediction of each pixel"
   ]
  },
  {
   "cell_type": "code",
   "execution_count": 22,
   "id": "0dfc9f06",
   "metadata": {},
   "outputs": [],
   "source": [
    "def half_mse(t, y):\n",
    "    return math.scalar_mul(0.5, math.reduce_sum(math.pow((t - y), 2)))"
   ]
  },
  {
   "cell_type": "code",
   "execution_count": 23,
   "id": "31ea160c",
   "metadata": {},
   "outputs": [],
   "source": [
    "def lr_step_decay(epoch):\n",
    "    initial_lr = 6e-4\n",
    "    drop_rate = 0.7943\n",
    "    epochs_drop = 10.0\n",
    "    \n",
    "    return initial_lr * np.power(drop_rate, np.floor(epoch/epochs_drop))"
   ]
  },
  {
   "cell_type": "code",
   "execution_count": 24,
   "id": "3ee7b8a4",
   "metadata": {},
   "outputs": [],
   "source": [
    "#class haltCallback(tf.keras.callbacks.Callback):\n",
    "#def on_epoch_end(self, epoch, logs={}):\n",
    "#if(logs.get('half_mse') < 3):\n",
    "#    print(\"\\n\\n\\nLoss value below 3 so cancelling training!\\n\\n\\n\")\n",
    "#    self.model.stop_training = True\n",
    "#\n",
    "#trainingStopCallback = haltCallback()"
   ]
  },
  {
   "cell_type": "code",
   "execution_count": 25,
   "id": "f9d309d2",
   "metadata": {},
   "outputs": [],
   "source": [
    "def train_tracnet(dev_set, val_set, input_shape=(104, 104, 2, 1), epochs=50):\n",
    "    batch_size = 32\n",
    "    # Input layer expects (batch size, length, width, depth, channels\n",
    "    \n",
    "    model = build_tracnet(input_shape, batch_size)\n",
    "    model.compile(\n",
    "        optimizer=SGD(momentum=0.9),\n",
    "        loss = half_mse,\n",
    "        metrics=['accuracy', half_mse],\n",
    "        run_eagerly=True\n",
    "    )\n",
    "    \n",
    "    model.summary()\n",
    "    \n",
    "    history = model.fit(\n",
    "        dev_set,\n",
    "        validation_data=val_set,\n",
    "        batch_size=batch_size,\n",
    "        epochs=epochs,\n",
    "        callbacks=[LearningRateScheduler(lr_step_decay, verbose=2), tensorboard],\n",
    "        verbose=2\n",
    "    )\n",
    "\n",
    "    # plot accuracy\n",
    "    plt.plot(history.history['accuracy'])\n",
    "    plt.plot(history.history['val_accuracy'])\n",
    "    plt.title('model accuracy')\n",
    "    plt.ylabel('accuracy')\n",
    "    plt.xlabel('epoch')\n",
    "    plt.legend(['train', 'val'], loc='upper left')\n",
    "    plt.show()\n",
    "\n",
    "    # plot loss\n",
    "    plt.plot(history.history['half_mse'])\n",
    "    plt.plot(history.history['val_loss'])\n",
    "    plt.title('model loss')\n",
    "    plt.ylabel('loss')\n",
    "    plt.xlabel('epoch')\n",
    "    plt.legend(['train', 'val'], loc='upper left')\n",
    "    plt.show()\n",
    "    \n",
    "    # save model\n",
    "    model.save(\"{}.tf\".format(NAME),save_format='tf',include_optimizer=True)\n",
    "    \n",
    "    return model"
   ]
  },
  {
   "cell_type": "code",
   "execution_count": 26,
   "id": "3dd3ec82",
   "metadata": {
    "scrolled": false
   },
   "outputs": [
    {
     "name": "stdout",
     "output_type": "stream",
     "text": [
      "KerasTensor(type_spec=TensorSpec(shape=(), dtype=tf.int32, name=None), inferred_value=[22151168], name='tf.compat.v1.size/Size:0', description=\"created by layer 'tf.compat.v1.size'\")\n",
      "Model: \"TracNet104-1648627839\"\n",
      "__________________________________________________________________________________________________\n",
      " Layer (type)                   Output Shape         Param #     Connected to                     \n",
      "==================================================================================================\n",
      " input_1 (InputLayer)           [(32, 104, 104, 2,   0           []                               \n",
      "                                1)]                                                               \n",
      "                                                                                                  \n",
      " conv3d (Conv3D)                (32, 104, 104, 2, 3  608         ['input_1[0][0]']                \n",
      "                                2)                                                                \n",
      "                                                                                                  \n",
      " batch_normalization (BatchNorm  (32, 104, 104, 2, 3  128        ['conv3d[0][0]']                 \n",
      " alization)                     2)                                                                \n",
      "                                                                                                  \n",
      " activation (Activation)        (32, 104, 104, 2, 3  0           ['batch_normalization[0][0]']    \n",
      "                                2)                                                                \n",
      "                                                                                                  \n",
      " conv3d_1 (Conv3D)              (32, 104, 104, 2, 6  36928       ['activation[0][0]']             \n",
      "                                4)                                                                \n",
      "                                                                                                  \n",
      " activation_1 (Activation)      (32, 104, 104, 2, 6  0           ['conv3d_1[0][0]']               \n",
      "                                4)                                                                \n",
      "                                                                                                  \n",
      " max_pooling3d (MaxPooling3D)   (32, 52, 52, 2, 64)  0           ['activation_1[0][0]']           \n",
      "                                                                                                  \n",
      " conv3d_2 (Conv3D)              (32, 52, 52, 2, 64)  73792       ['max_pooling3d[0][0]']          \n",
      "                                                                                                  \n",
      " batch_normalization_1 (BatchNo  (32, 52, 52, 2, 64)  256        ['conv3d_2[0][0]']               \n",
      " rmalization)                                                                                     \n",
      "                                                                                                  \n",
      " activation_2 (Activation)      (32, 52, 52, 2, 64)  0           ['batch_normalization_1[0][0]']  \n",
      "                                                                                                  \n",
      " conv3d_3 (Conv3D)              (32, 52, 52, 2, 128  147584      ['activation_2[0][0]']           \n",
      "                                )                                                                 \n",
      "                                                                                                  \n",
      " activation_3 (Activation)      (32, 52, 52, 2, 128  0           ['conv3d_3[0][0]']               \n",
      "                                )                                                                 \n",
      "                                                                                                  \n",
      " max_pooling3d_1 (MaxPooling3D)  (32, 26, 26, 2, 128  0          ['activation_3[0][0]']           \n",
      "                                )                                                                 \n",
      "                                                                                                  \n",
      " conv3d_4 (Conv3D)              (32, 26, 26, 2, 128  295040      ['max_pooling3d_1[0][0]']        \n",
      "                                )                                                                 \n",
      "                                                                                                  \n",
      " batch_normalization_2 (BatchNo  (32, 26, 26, 2, 128  512        ['conv3d_4[0][0]']               \n",
      " rmalization)                   )                                                                 \n",
      "                                                                                                  \n",
      " activation_4 (Activation)      (32, 26, 26, 2, 128  0           ['batch_normalization_2[0][0]']  \n",
      "                                )                                                                 \n",
      "                                                                                                  \n",
      " conv3d_5 (Conv3D)              (32, 26, 26, 2, 256  590080      ['activation_4[0][0]']           \n",
      "                                )                                                                 \n",
      "                                                                                                  \n",
      " activation_5 (Activation)      (32, 26, 26, 2, 256  0           ['conv3d_5[0][0]']               \n",
      "                                )                                                                 \n",
      "                                                                                                  \n",
      " max_pooling3d_2 (MaxPooling3D)  (32, 13, 13, 2, 256  0          ['activation_5[0][0]']           \n",
      "                                )                                                                 \n",
      "                                                                                                  \n",
      " conv3d_6 (Conv3D)              (32, 13, 13, 2, 128  589952      ['max_pooling3d_2[0][0]']        \n",
      "                                )                                                                 \n",
      "                                                                                                  \n",
      " batch_normalization_3 (BatchNo  (32, 13, 13, 2, 128  512        ['conv3d_6[0][0]']               \n",
      " rmalization)                   )                                                                 \n",
      "                                                                                                  \n",
      " activation_6 (Activation)      (32, 13, 13, 2, 128  0           ['batch_normalization_3[0][0]']  \n",
      "                                )                                                                 \n",
      "                                                                                                  \n",
      " conv3d_7 (Conv3D)              (32, 13, 13, 2, 256  590080      ['activation_6[0][0]']           \n",
      "                                )                                                                 \n",
      "                                                                                                  \n",
      " batch_normalization_4 (BatchNo  (32, 13, 13, 2, 256  1024       ['conv3d_7[0][0]']               \n",
      " rmalization)                   )                                                                 \n",
      "                                                                                                  \n",
      " activation_7 (Activation)      (32, 13, 13, 2, 256  0           ['batch_normalization_4[0][0]']  \n",
      "                                )                                                                 \n",
      "                                                                                                  \n",
      " conv3d_transpose (Conv3DTransp  (32, 26, 26, 2, 256  590080     ['activation_7[0][0]']           \n",
      " ose)                           )                                                                 \n",
      "                                                                                                  \n",
      " tf.concat (TFOpLambda)         (32, 26, 26, 2, 512  0           ['activation_5[0][0]',           \n",
      "                                )                                 'conv3d_transpose[0][0]']       \n",
      "                                                                                                  \n",
      " conv3d_8 (Conv3D)              (32, 26, 26, 2, 64)  589888      ['tf.concat[0][0]']              \n",
      "                                                                                                  \n",
      " batch_normalization_5 (BatchNo  (32, 26, 26, 2, 64)  256        ['conv3d_8[0][0]']               \n",
      " rmalization)                                                                                     \n",
      "                                                                                                  \n",
      " activation_8 (Activation)      (32, 26, 26, 2, 64)  0           ['batch_normalization_5[0][0]']  \n",
      "                                                                                                  \n",
      " conv3d_9 (Conv3D)              (32, 26, 26, 2, 128  147584      ['activation_8[0][0]']           \n",
      "                                )                                                                 \n",
      "                                                                                                  \n",
      " batch_normalization_6 (BatchNo  (32, 26, 26, 2, 128  512        ['conv3d_9[0][0]']               \n",
      " rmalization)                   )                                                                 \n",
      "                                                                                                  \n",
      " activation_9 (Activation)      (32, 26, 26, 2, 128  0           ['batch_normalization_6[0][0]']  \n",
      "                                )                                                                 \n",
      "                                                                                                  \n",
      " conv3d_transpose_1 (Conv3DTran  (32, 52, 52, 2, 128  147584     ['activation_9[0][0]']           \n",
      " spose)                         )                                                                 \n",
      "                                                                                                  \n",
      " tf.concat_1 (TFOpLambda)       (32, 52, 52, 2, 256  0           ['activation_3[0][0]',           \n",
      "                                )                                 'conv3d_transpose_1[0][0]']     \n",
      "                                                                                                  \n",
      " conv3d_10 (Conv3D)             (32, 52, 52, 2, 32)  147488      ['tf.concat_1[0][0]']            \n",
      "                                                                                                  \n",
      " batch_normalization_7 (BatchNo  (32, 52, 52, 2, 32)  128        ['conv3d_10[0][0]']              \n",
      " rmalization)                                                                                     \n",
      "                                                                                                  \n",
      " activation_10 (Activation)     (32, 52, 52, 2, 32)  0           ['batch_normalization_7[0][0]']  \n",
      "                                                                                                  \n",
      " conv3d_11 (Conv3D)             (32, 52, 52, 2, 64)  36928       ['activation_10[0][0]']          \n",
      "                                                                                                  \n",
      " batch_normalization_8 (BatchNo  (32, 52, 52, 2, 64)  256        ['conv3d_11[0][0]']              \n",
      " rmalization)                                                                                     \n",
      "                                                                                                  \n",
      " activation_11 (Activation)     (32, 52, 52, 2, 64)  0           ['batch_normalization_8[0][0]']  \n",
      "                                                                                                  \n",
      " conv3d_transpose_2 (Conv3DTran  (32, 104, 104, 2, 6  36928      ['activation_11[0][0]']          \n",
      " spose)                         4)                                                                \n",
      "                                                                                                  \n",
      " tf.concat_2 (TFOpLambda)       (32, 104, 104, 2, 1  0           ['activation_1[0][0]',           \n",
      "                                28)                               'conv3d_transpose_2[0][0]']     \n",
      "                                                                                                  \n",
      " conv3d_12 (Conv3D)             (32, 104, 104, 2, 1  2305        ['tf.concat_2[0][0]']            \n",
      "                                )                                                                 \n",
      "                                                                                                  \n",
      " batch_normalization_9 (BatchNo  (32, 104, 104, 2, 1  4          ['conv3d_12[0][0]']              \n",
      " rmalization)                   )                                                                 \n",
      "                                                                                                  \n",
      " activation_12 (Activation)     (32, 104, 104, 2, 1  0           ['batch_normalization_9[0][0]']  \n",
      "                                )                                                                 \n",
      "                                                                                                  \n",
      " conv3d_13 (Conv3D)             (32, 104, 104, 2, 3  608         ['activation_12[0][0]']          \n",
      "                                2)                                                                \n",
      "                                                                                                  \n",
      " batch_normalization_10 (BatchN  (32, 104, 104, 2, 3  128        ['conv3d_13[0][0]']              \n",
      " ormalization)                  2)                                                                \n",
      "                                                                                                  \n",
      " activation_13 (Activation)     (32, 104, 104, 2, 3  0           ['batch_normalization_10[0][0]'] \n",
      "                                2)                                                                \n",
      "                                                                                                  \n",
      " conv3d_14 (Conv3D)             (32, 104, 104, 2, 1  577         ['activation_13[0][0]']          \n",
      "                                )                                                                 \n",
      "                                                                                                  \n",
      "==================================================================================================\n",
      "Total params: 4,027,750\n",
      "Trainable params: 4,025,892\n",
      "Non-trainable params: 1,858\n",
      "__________________________________________________________________________________________________\n"
     ]
    },
    {
     "name": "stdout",
     "output_type": "stream",
     "text": [
      "\n",
      "Epoch 00001: LearningRateScheduler setting learning rate to 0.0006.\n",
      "Epoch 1/5\n",
      "39/39 - 535s - loss: nan - accuracy: 0.9143 - half_mse: nan - val_loss: nan - val_accuracy: 0.9628 - val_half_mse: nan - lr: 6.0000e-04 - 535s/epoch - 14s/step\n",
      "\n",
      "Epoch 00002: LearningRateScheduler setting learning rate to 0.0006.\n",
      "Epoch 2/5\n",
      "39/39 - 540s - loss: nan - accuracy: 0.9632 - half_mse: nan - val_loss: nan - val_accuracy: 0.9628 - val_half_mse: nan - lr: 6.0000e-04 - 540s/epoch - 14s/step\n",
      "\n",
      "Epoch 00003: LearningRateScheduler setting learning rate to 0.0006.\n",
      "Epoch 3/5\n",
      "39/39 - 542s - loss: nan - accuracy: 0.9632 - half_mse: nan - val_loss: nan - val_accuracy: 0.9628 - val_half_mse: nan - lr: 6.0000e-04 - 542s/epoch - 14s/step\n",
      "\n",
      "Epoch 00004: LearningRateScheduler setting learning rate to 0.0006.\n",
      "Epoch 4/5\n",
      "39/39 - 542s - loss: nan - accuracy: 0.9632 - half_mse: nan - val_loss: nan - val_accuracy: 0.9628 - val_half_mse: nan - lr: 6.0000e-04 - 542s/epoch - 14s/step\n",
      "\n",
      "Epoch 00005: LearningRateScheduler setting learning rate to 0.0006.\n",
      "Epoch 5/5\n",
      "39/39 - 544s - loss: nan - accuracy: 0.9632 - half_mse: nan - val_loss: nan - val_accuracy: 0.9628 - val_half_mse: nan - lr: 6.0000e-04 - 544s/epoch - 14s/step\n"
     ]
    },
    {
     "data": {
      "image/png": "[encoded data removed]",
      "text/plain": [
       "<Figure size 432x288 with 1 Axes>"
      ]
     },
     "metadata": {
      "needs_background": "light"
     },
     "output_type": "display_data"
    },
    {
     "data": {
      "image/png": "[encoded data removed]",
      "text/plain": [
       "<Figure size 432x288 with 1 Axes>"
      ]
     },
     "metadata": {
      "needs_background": "light"
     },
     "output_type": "display_data"
    },
    {
     "name": "stderr",
     "output_type": "stream",
     "text": [
      "2022-03-30 11:00:53.771254: W tensorflow/python/util/util.cc:368] Sets are not currently considered sequences, but this may change in the future, so consider avoiding using them.\n"
     ]
    },
    {
     "name": "stdout",
     "output_type": "stream",
     "text": [
      "INFO:tensorflow:Assets written to: TracNet104-1648627839.tf/assets\n"
     ]
    }
   ],
   "source": [
    "model = train_tracnet(train_dataset, val_dataset, epochs=5)"
   ]
  },
  {
   "cell_type": "markdown",
   "id": "85c0b608",
   "metadata": {},
   "source": [
    "## Error calculation"
   ]
  },
  {
   "cell_type": "markdown",
   "id": "bf60e06c",
   "metadata": {},
   "source": [
    "For a given displacement field, calculate the predicted stress field and the normalized rmse relative to its ground truth for different Young's moduli."
   ]
  },
  {
   "cell_type": "code",
   "execution_count": null,
   "id": "19d20bfb",
   "metadata": {},
   "outputs": [],
   "source": [
    "def calcError(path):\n",
    "    errors = []\n",
    "    S = 160\n",
    "    y_moduli = [2500, 5000, 10000, 20000, 400000]\n",
    "    noise = 0.00765\n",
    "    for nr in range(18, 56):\n",
    "        name = f'MLData00{nr}.mat'.format\n",
    "        path = os.path.join(path, name)\n",
    "        if os.path.isfile(path):\n",
    "            cell = [nr]\n",
    "            trac_file = loadmat(path)\n",
    "            brdx = trac_file['brdx']\n",
    "            brdy = trac_file['brdy']\n",
    "            tracGT = trac_file['tracGT']\n",
    "            for i in y_moduli:\n",
    "                name = f'MLData00{nr}-{i}.mat'.format(nr=nr, i=i)\n",
    "                path = os.path.join(path, name)\n",
    "                if os.path.isfile(path):\n",
    "                    dspl_file = loadmat(path)\n",
    "                    dspl = dspl_file['dspl']\n",
    "                    trac = predictTrac(dspl, i)\n",
    "                    err = errorTrac(trac, tracGT, brdx, brdy)\n",
    "                    cell.append(err)\n",
    "\n",
    "                    dspl = addNoise(dspl, noise)\n",
    "                    trac = predictTrac(dspl, i)\n",
    "                    err = errorTrac(trac, tracGT, brdx, brdy)\n",
    "                    cell.append(err)\n",
    "                else:\n",
    "                    continue\n",
    "            errors.append(cell)\n",
    "        else:\n",
    "            continue\n",
    "    df = pd.DataFrame(errors, index=['first', 'second'],\n",
    "                      columns=['File ID', '2,500Pa', '2,500Pa N', '5,000Pa', '5,000Pa N', '10,000Pa', '10,000Pa N',\n",
    "                               '20,000Pa', '20,000Pa N', '40,000Pa', '40,000Pa N'])\n",
    "    return df"
   ]
  },
  {
   "cell_type": "markdown",
   "id": "895c7656",
   "metadata": {},
   "source": [
    "`errorTrac` is called by `calcError` to actually perform the error calculation given a predicted stress field and the ground truth."
   ]
  },
  {
   "cell_type": "code",
   "execution_count": null,
   "id": "4a43c543",
   "metadata": {},
   "outputs": [],
   "source": [
    "def errorTrac(filepath, filepath_GT, plot=False):\n",
    "    file = loadmat(filepath)  # load prediction\n",
    "    file_GT = loadmat(filepath_GT) # load ground truth\n",
    "    brdx = file['brdx']  # x-values of predicted cell border\n",
    "    brdy = file['brdy']  # y-values of predicted cell border\n",
    "    trac = file['trac']\n",
    "    tracGT = file_GT['trac']\n",
    "    zipped = np.array(list(zip(brdx[0], brdy[0])))  # array with (x,y) pairs of cell border coordinates\n",
    "    polygon = sh.geometry.Polygon(zipped)  # create polygon\n",
    "\n",
    "    interior = np.zeros((file['dspl'].shape[0], file['dspl'].shape[1]), dtype=int)  # create all zero matrix\n",
    "    for i in range(len(interior)):  # set all elements in interior matrix to 1 that actually lie within the cell\n",
    "        for j in range(len(interior[i])):\n",
    "            point = Point(i, j)\n",
    "            if polygon.contains(point):\n",
    "                interior[i][j] = 1\n",
    "\n",
    "    # plot polygons using geopandas\n",
    "    if plot:\n",
    "        p = gpd.GeoSeries(polygon)\n",
    "        p.plot()\n",
    "        plt.show()\n",
    "\n",
    "    # update prediction and ground truth by discarding areas outside of cell borders\n",
    "    trac[:, :, 1] = trac[:, :, 1] * interior\n",
    "    trac[:, :, 2] = trac[:, :, 2] * interior\n",
    "    tracGT[:, :, 1] = tracGT[:, :, 1] * interior\n",
    "    tracGT[:, :, 2] = tracGT[:, :, 2] * interior\n",
    "\n",
    "    # compute rmse\n",
    "    mse = np.sum(np.pow((trac[:, :, 1] - tracGT[:, :, 1], 2)), np.pow((trac[:, :, 2] - tracGT[:, :, 2], 2)))\n",
    "    rmse = np.sqrt(mse)\n",
    "    msm = np.sum(np.pow(tracGT[:, :, 1], 2) + np.pow(tracGT[:, :, 2], 2))\n",
    "    rmsm = np.sqrt(msm)\n",
    "    error = rmse / rmsm\n",
    "\n",
    "    return error"
   ]
  },
  {
   "cell_type": "markdown",
   "id": "8dd94fe9",
   "metadata": {},
   "source": [
    "`add_noise` applies Gaussian noise to a displacement field"
   ]
  },
  {
   "cell_type": "code",
   "execution_count": null,
   "id": "7dddb582",
   "metadata": {},
   "outputs": [],
   "source": [
    "def add_noise(dspl, N):\n",
    "    dsplN = np.zeros(shape=dspl.shape)\n",
    "    S = dspl.shape[0]\n",
    "    stdev = N / np.sqrt(2)\n",
    "    noise = np.random.normal(loc=0, scale=stdev, size=(S, S))\n",
    "    dsplN[:, :, 1] = dspl[:, :, 1] + noise\n",
    "    noise = np.random.normal(loc=0, scale=stdev, size=(S, S))\n",
    "    dsplN[:, :, 2] = dspl[:, :, 2] + noise\n",
    "    \n",
    "    return dsplN"
   ]
  }
 ],
 "metadata": {
  "kernelspec": {
   "display_name": "Python 3 (ipykernel)",
   "language": "python",
   "name": "python3"
  },
  "language_info": {
   "codemirror_mode": {
    "name": "ipython",
    "version": 3
   },
   "file_extension": ".py",
   "mimetype": "text/x-python",
   "name": "python",
   "nbconvert_exporter": "python",
   "pygments_lexer": "ipython3",
   "version": "3.8.10"
  }
 },
 "nbformat": 4,
 "nbformat_minor": 5
}
