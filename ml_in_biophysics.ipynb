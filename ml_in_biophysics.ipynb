{
 "cells": [
  {
   "cell_type": "markdown",
   "id": "41673cc8",
   "metadata": {},
   "source": [
    "## Imports"
   ]
  },
  {
   "cell_type": "code",
   "execution_count": 1,
   "id": "91e7991a",
   "metadata": {},
   "outputs": [
    {
     "name": "stderr",
     "output_type": "stream",
     "text": [
      "2022-02-16 12:52:45.199178: W tensorflow/stream_executor/platform/default/dso_loader.cc:64] Could not load dynamic library 'libcudart.so.11.0'; dlerror: libcudart.so.11.0: cannot open shared object file: No such file or directory\n",
      "2022-02-16 12:52:45.199197: I tensorflow/stream_executor/cuda/cudart_stub.cc:29] Ignore above cudart dlerror if you do not have a GPU set up on your machine.\n"
     ]
    }
   ],
   "source": [
    "import numpy as np\n",
    "from scipy.io import loadmat\n",
    "import shapely as sh\n",
    "from shapely.geometry import Point\n",
    "import matplotlib.pyplot as plt\n",
    "import geopandas as gpd\n",
    "\n",
    "import tensorflow as tf\n",
    "from tensorflow.keras.optimizers import SGD\n",
    "from tensorflow.keras.losses import MeanSquaredError\n",
    "from tensorflow.keras.metrics import Accuracy, RootMeanSquaredError, MeanAbsoluteError\n",
    "from tensorflow.keras.callbacks import LearningRateScheduler\n",
    "import os"
   ]
  },
  {
   "cell_type": "markdown",
   "id": "1fa42771",
   "metadata": {},
   "source": [
    "## Data loading and preprocessing"
   ]
  },
  {
   "cell_type": "code",
   "execution_count": 57,
   "id": "6148e739",
   "metadata": {},
   "outputs": [],
   "source": [
    "dspl_path = '/home/alexrichard/LRZ Sync+Share/ML in Physics/data/train/trainData104/dspl'\n",
    "dsplRadial_path = '/home/alexrichard/LRZ Sync+Share/ML in Physics/data/train/trainData104/dsplRadial'\n",
    "trac_path = '/home/alexrichard/LRZ Sync+Share/ML in Physics/data/train/trainData104/trac'\n",
    "tracRadial_path = '/home/alexrichard/LRZ Sync+Share/ML in Physics/data/train/trainData104/tracRadial'"
   ]
  },
  {
   "cell_type": "code",
   "execution_count": 65,
   "id": "71fcae35",
   "metadata": {},
   "outputs": [],
   "source": [
    "def datasets(dspl_path, dsplRadial_path, trac_path, tracRadial_path):\n",
    "    number_samples = len([name for name in os.listdir(dspl_path) if os.path.isfile(os.path.join(dspl_path, name))])\n",
    "    number_radials = len([name for name in os.listdir(dsplRadial_path) if os.path.isfile(os.path.join(dsplRadial_path, name))])\n",
    "    \n",
    "    # save all samples in matrix\n",
    "    samples = [] \n",
    "    for i, filename in enumerate(os.listdir(dspl_path)):\n",
    "        f = os.path.join(dspl_path, filename)\n",
    "        if os.path.isfile(f):\n",
    "            sample = loadmat(f)\n",
    "            if '__header__' in sample: del sample['__header__']\n",
    "            if '__version__' in sample: del sample['__version__']\n",
    "            if '__globals__' in sample: del sample['__globals__']\n",
    "            sample['name'] = filename\n",
    "            print(sample)\n",
    "            np.append(samples, sample)\n",
    "        else:\n",
    "            continue\n",
    "    samples = np.array(samples, shape=(1,))\n",
    "\n",
    "    # save all radial patterns of displacements in matrix\n",
    "    dspl_radials = []\n",
    "    for i, filename in enumerate(os.listdir(dsplRadial_path)):\n",
    "        f = os.path.join(dsplRadial_path, filename)\n",
    "        if os.path.isfile(f):\n",
    "            radial = loadmat(f)\n",
    "            if '__header__' in radial: del radial['__header__']\n",
    "            if '__version__' in radial: del radial['__version__']\n",
    "            if '__globals__' in radial: del radial['__globals__']\n",
    "            radial['name'] = filename\n",
    "            np.append(dspl_radials, radial)\n",
    "        else:\n",
    "            continue\n",
    "    dspl_radials = np.array(dspl_radials)\n",
    "    \n",
    "    # save all targets in matrix\n",
    "    targets = []\n",
    "    for i, filename in enumerate(os.listdir(trac_path)):\n",
    "        f = os.path.join(trac_path, filename)\n",
    "        if os.path.isfile(f):\n",
    "            target = loadmat(f)\n",
    "            if '__header__' in target: del target['__header__']\n",
    "            if '__version__' in target: del target['__version__']\n",
    "            if '__globals__' in target: del target['__globals__']\n",
    "            target['name'] = filename\n",
    "            np.append(targets, target)\n",
    "        else:\n",
    "            continue \n",
    "    targets = np.array(targets)\n",
    "    \n",
    "    # save all radial patterns of traction forces in matrix\n",
    "    trac_radials = []\n",
    "    for i, filename in enumerate(os.listdir(tracRadial_path)):\n",
    "        f = os.path.join(tracRadial_path, filename)\n",
    "        if os.path.isfile(f):\n",
    "            radial = loadmat(f)\n",
    "            if '__header__' in radial: del radial['__header__']\n",
    "            if '__version__' in radial: del radial['__version__']\n",
    "            if '__globals__' in radial: del radial['__globals__']\n",
    "            radial['name'] = filename\n",
    "            np.append(trac_radials, radial)\n",
    "        else:\n",
    "            continue\n",
    "    trac_radials = np.array(trac_radials)\n",
    "\n",
    "    return samples, dspl_radials, targets, trac_radials"
   ]
  },
  {
   "cell_type": "markdown",
   "id": "9e2481ba",
   "metadata": {},
   "source": [
    "## Error calculation"
   ]
  },
  {
   "cell_type": "markdown",
   "id": "3db35edb",
   "metadata": {},
   "source": [
    "For a given displacement field, calculate the predicted stress field and the normalized rmse relative to its ground truth for different Young's moduli."
   ]
  },
  {
   "cell_type": "code",
   "execution_count": 73,
   "id": "ba5b7b7d",
   "metadata": {},
   "outputs": [],
   "source": [
    "def calcError(path):\n",
    "    errors = []\n",
    "    S = 160\n",
    "    y_moduli = [2500, 5000, 10000, 20000, 400000]\n",
    "    noise = 0.00765\n",
    "    for nr in range(18, 56):\n",
    "        name = f'MLData00{nr}.mat'.format\n",
    "        path = os.path.join(path, name)\n",
    "        if os.path.isfile(path):\n",
    "            cell = [nr]\n",
    "            trac_file = loadmat(path)\n",
    "            brdx = trac_file['brdx']\n",
    "            brdy = trac_file['brdy']\n",
    "            tracGT = trac_file['tracGT']\n",
    "            for i in y_moduli:\n",
    "                name = f'MLData00{nr}-{i}.mat'.format(nr=nr, i=i)\n",
    "                path = os.path.join(path, name)\n",
    "                if os.path.isfile(path):\n",
    "                    dspl_file = loadmat(path)\n",
    "                    dspl = dspl_file['dspl']\n",
    "                    trac = predictTrac(dspl, i)\n",
    "                    err = errorTrac(trac, tracGT, brdx, brdy)\n",
    "                    cell.append(err)\n",
    "\n",
    "                    dspl = addNoise(dspl, noise)\n",
    "                    trac = predictTrac(dspl, i)\n",
    "                    err = errorTrac(trac, tracGT, brdx, brdy)\n",
    "                    cell.append(err)\n",
    "                else:\n",
    "                    continue\n",
    "            errors.append(cell)\n",
    "        else:\n",
    "            continue\n",
    "    df = pd.DataFrame(errors, index=['first', 'second'],\n",
    "                      columns=['File ID', '2,500Pa', '2,500Pa N', '5,000Pa', '5,000Pa N', '10,000Pa', '10,000Pa N',\n",
    "                               '20,000Pa', '20,000Pa N', '40,000Pa', '40,000Pa N'])\n",
    "    return df"
   ]
  },
  {
   "cell_type": "markdown",
   "id": "f2746706",
   "metadata": {},
   "source": [
    "'errorTrac' is called by 'calcError' to actually perform the error calculation given a predicted stress field and the ground truth."
   ]
  },
  {
   "cell_type": "code",
   "execution_count": 74,
   "id": "d1848dc2",
   "metadata": {},
   "outputs": [],
   "source": [
    "def errorTrac(filepath, filepath_GT, plot=False):\n",
    "    file = loadmat(filepath)  # load prediction\n",
    "    file_GT = loadmat(filepath_GT) # load ground truth\n",
    "    brdx = file['brdx']  # x-values of predicted cell border\n",
    "    brdy = file['brdy']  # y-values of predicted cell border\n",
    "    trac = file['trac']\n",
    "    tracGT = file_GT['trac']\n",
    "    zipped = np.array(list(zip(brdx[0], brdy[0])))  # array with (x,y) pairs of cell border coordinates\n",
    "    polygon = sh.geometry.Polygon(zipped)  # create polygon\n",
    "\n",
    "    interior = np.zeros((file['dspl'].shape[0], file['dspl'].shape[1]), dtype=int)  # create all zero matrix\n",
    "    for i in range(len(interior)):  # set all elements in interior matrix to 1 that actually lie within the cell\n",
    "        for j in range(len(interior[i])):\n",
    "            point = Point(i, j)\n",
    "            if polygon.contains(point):\n",
    "                interior[i][j] = 1\n",
    "\n",
    "    # plot polygons using geopandas\n",
    "    if plot:\n",
    "        p = gpd.GeoSeries(polygon)\n",
    "        p.plot()\n",
    "        plt.show()\n",
    "\n",
    "    # update prediction and ground truth by discarding areas outside of cell borders\n",
    "    trac[:, :, 1] = trac[:, :, 1] * interior\n",
    "    trac[:, :, 2] = trac[:, :, 2] * interior\n",
    "    tracGT[:, :, 1] = tracGT[:, :, 1] * interior\n",
    "    tracGT[:, :, 2] = tracGT[:, :, 2] * interior\n",
    "\n",
    "    # compute rmse\n",
    "    mse = np.sum(np.pow((trac[:, :, 1] - tracGT[:, :, 1], 2)), np.pow((trac[:, :, 2] - tracGT[:, :, 2], 2)))\n",
    "    rmse = np.sqrt(mse)\n",
    "    msm = np.sum(np.pow(tracGT[:, :, 1], 2) + np.pow(tracGT[:, :, 2], 2))\n",
    "    rmsm = np.sqrt(msm)\n",
    "    error = rmse / rmsm\n",
    "\n",
    "    return error"
   ]
  },
  {
   "cell_type": "code",
   "execution_count": null,
   "id": "6aab20b5",
   "metadata": {},
   "outputs": [],
   "source": []
  }
 ],
 "metadata": {
  "kernelspec": {
   "display_name": "Python 3 (ipykernel)",
   "language": "python",
   "name": "python3"
  },
  "language_info": {
   "codemirror_mode": {
    "name": "ipython",
    "version": 3
   },
   "file_extension": ".py",
   "mimetype": "text/x-python",
   "name": "python",
   "nbconvert_exporter": "python",
   "pygments_lexer": "ipython3",
   "version": "3.8.10"
  }
 },
 "nbformat": 4,
 "nbformat_minor": 5
}
