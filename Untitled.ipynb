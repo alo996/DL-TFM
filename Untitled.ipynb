{
 "cells": [
  {
   "cell_type": "markdown",
   "id": "d3514c0a",
   "metadata": {},
   "source": [
    "# DL-TFM in Pytorch II"
   ]
  },
  {
   "cell_type": "code",
   "execution_count": 13,
   "id": "38d33d7b",
   "metadata": {},
   "outputs": [],
   "source": [
    "from tracNet import TracNet\n",
    "\n",
    "import copy\n",
    "import datetime\n",
    "import gc\n",
    "import geopandas as gpd\n",
    "import matplotlib.pyplot as plt\n",
    "import numpy as np\n",
    "import os\n",
    "import torch\n",
    "import torch.nn as nn\n",
    "import torch.nn.functional as F\n",
    "\n",
    "from scipy.io import loadmat, savemat\n",
    "from shapely.geometry import Point\n",
    "from sklearn.model_selection import train_test_split\n",
    "from torch.optim.lr_scheduler import StepLR\n",
    "from torch.utils.data import TensorDataset, DataLoader\n",
    "from torch.utils.tensorboard import SummaryWriter\n",
    "from torchinfo import summary\n",
    "\n",
    "%matplotlib inline"
   ]
  },
  {
   "cell_type": "markdown",
   "id": "96c86bc0",
   "metadata": {},
   "source": [
    "Set seeds for reproducability."
   ]
  },
  {
   "cell_type": "code",
   "execution_count": 14,
   "id": "52970793",
   "metadata": {},
   "outputs": [],
   "source": [
    "random_seed = 1\n",
    "np.random.seed(random_seed)\n",
    "torch.manual_seed(random_seed)\n",
    "torch.cuda.manual_seed(random_seed)\n",
    "torch.backends.cudnn.benchmark = False"
   ]
  },
  {
   "cell_type": "markdown",
   "id": "6abd80bd",
   "metadata": {},
   "source": [
    "Use CUDA if available."
   ]
  },
  {
   "cell_type": "code",
   "execution_count": 15,
   "id": "44ec392f",
   "metadata": {},
   "outputs": [
    {
     "name": "stdout",
     "output_type": "stream",
     "text": [
      "Running on device: cuda\n"
     ]
    }
   ],
   "source": [
    "gc.collect()\n",
    "torch.cuda.empty_cache()\n",
    "device = torch.device('cuda') if torch.cuda.is_available() else torch.device('cpu')\n",
    "print(f\"Running on device: {device}\")"
   ]
  },
  {
   "cell_type": "markdown",
   "id": "37a533ee",
   "metadata": {},
   "source": [
    "## 3. Evaluation"
   ]
  },
  {
   "cell_type": "markdown",
   "id": "4128bf18",
   "metadata": {},
   "source": [
    "Load model and test set."
   ]
  },
  {
   "cell_type": "code",
   "execution_count": 16,
   "id": "8c149180",
   "metadata": {},
   "outputs": [
    {
     "data": {
      "text/plain": [
       "TracNet(\n",
       "  (s1): ConvBlock_1(\n",
       "    (conv_block_1): Sequential(\n",
       "      (0): Conv3d(1, 32, kernel_size=(2, 3, 3), stride=(1, 1, 1), padding=same, bias=False)\n",
       "      (1): BatchNorm3d(32, eps=1e-05, momentum=0.1, affine=True, track_running_stats=True)\n",
       "      (2): ReLU(inplace=True)\n",
       "    )\n",
       "  )\n",
       "  (s2): ConvBlock_2(\n",
       "    (conv_block_2): Sequential(\n",
       "      (0): Conv3d(32, 64, kernel_size=(2, 3, 3), stride=(1, 1, 1), padding=same)\n",
       "      (1): ReLU(inplace=True)\n",
       "    )\n",
       "  )\n",
       "  (s3): MaxPool3d(kernel_size=(1, 2, 2), stride=(1, 2, 2), padding=0, dilation=1, ceil_mode=False)\n",
       "  (s4): ConvBlock_1(\n",
       "    (conv_block_1): Sequential(\n",
       "      (0): Conv3d(64, 64, kernel_size=(2, 3, 3), stride=(1, 1, 1), padding=same, bias=False)\n",
       "      (1): BatchNorm3d(64, eps=1e-05, momentum=0.1, affine=True, track_running_stats=True)\n",
       "      (2): ReLU(inplace=True)\n",
       "    )\n",
       "  )\n",
       "  (s5): ConvBlock_2(\n",
       "    (conv_block_2): Sequential(\n",
       "      (0): Conv3d(64, 128, kernel_size=(2, 3, 3), stride=(1, 1, 1), padding=same)\n",
       "      (1): ReLU(inplace=True)\n",
       "    )\n",
       "  )\n",
       "  (s6): MaxPool3d(kernel_size=(1, 2, 2), stride=(1, 2, 2), padding=0, dilation=1, ceil_mode=False)\n",
       "  (s7): ConvBlock_1(\n",
       "    (conv_block_1): Sequential(\n",
       "      (0): Conv3d(128, 128, kernel_size=(2, 3, 3), stride=(1, 1, 1), padding=same, bias=False)\n",
       "      (1): BatchNorm3d(128, eps=1e-05, momentum=0.1, affine=True, track_running_stats=True)\n",
       "      (2): ReLU(inplace=True)\n",
       "    )\n",
       "  )\n",
       "  (s8): ConvBlock_2(\n",
       "    (conv_block_2): Sequential(\n",
       "      (0): Conv3d(128, 256, kernel_size=(2, 3, 3), stride=(1, 1, 1), padding=same)\n",
       "      (1): ReLU(inplace=True)\n",
       "    )\n",
       "  )\n",
       "  (s9): MaxPool3d(kernel_size=(1, 2, 2), stride=(1, 2, 2), padding=0, dilation=1, ceil_mode=False)\n",
       "  (s10): ConvBlock_1(\n",
       "    (conv_block_1): Sequential(\n",
       "      (0): Conv3d(256, 128, kernel_size=(2, 3, 3), stride=(1, 1, 1), padding=same, bias=False)\n",
       "      (1): BatchNorm3d(128, eps=1e-05, momentum=0.1, affine=True, track_running_stats=True)\n",
       "      (2): ReLU(inplace=True)\n",
       "    )\n",
       "  )\n",
       "  (s11): ConvBlock_1(\n",
       "    (conv_block_1): Sequential(\n",
       "      (0): Conv3d(128, 256, kernel_size=(2, 3, 3), stride=(1, 1, 1), padding=same, bias=False)\n",
       "      (1): BatchNorm3d(256, eps=1e-05, momentum=0.1, affine=True, track_running_stats=True)\n",
       "      (2): ReLU(inplace=True)\n",
       "    )\n",
       "  )\n",
       "  (s12): ConvTranspose3d(256, 256, kernel_size=(1, 3, 3), stride=(1, 2, 2))\n",
       "  (s13): ConvBlock_1(\n",
       "    (conv_block_1): Sequential(\n",
       "      (0): Conv3d(512, 64, kernel_size=(2, 3, 3), stride=(1, 1, 1), padding=same, bias=False)\n",
       "      (1): BatchNorm3d(64, eps=1e-05, momentum=0.1, affine=True, track_running_stats=True)\n",
       "      (2): ReLU(inplace=True)\n",
       "    )\n",
       "  )\n",
       "  (s14): ConvBlock_1(\n",
       "    (conv_block_1): Sequential(\n",
       "      (0): Conv3d(64, 128, kernel_size=(2, 3, 3), stride=(1, 1, 1), padding=same, bias=False)\n",
       "      (1): BatchNorm3d(128, eps=1e-05, momentum=0.1, affine=True, track_running_stats=True)\n",
       "      (2): ReLU(inplace=True)\n",
       "    )\n",
       "  )\n",
       "  (s15): ConvTranspose3d(128, 128, kernel_size=(1, 3, 3), stride=(1, 2, 2))\n",
       "  (s16): ConvBlock_1(\n",
       "    (conv_block_1): Sequential(\n",
       "      (0): Conv3d(256, 32, kernel_size=(2, 3, 3), stride=(1, 1, 1), padding=same, bias=False)\n",
       "      (1): BatchNorm3d(32, eps=1e-05, momentum=0.1, affine=True, track_running_stats=True)\n",
       "      (2): ReLU(inplace=True)\n",
       "    )\n",
       "  )\n",
       "  (s17): ConvBlock_1(\n",
       "    (conv_block_1): Sequential(\n",
       "      (0): Conv3d(32, 64, kernel_size=(2, 3, 3), stride=(1, 1, 1), padding=same, bias=False)\n",
       "      (1): BatchNorm3d(64, eps=1e-05, momentum=0.1, affine=True, track_running_stats=True)\n",
       "      (2): ReLU(inplace=True)\n",
       "    )\n",
       "  )\n",
       "  (s18): ConvTranspose3d(64, 64, kernel_size=(1, 3, 3), stride=(1, 2, 2))\n",
       "  (s19): ConvBlock_1(\n",
       "    (conv_block_1): Sequential(\n",
       "      (0): Conv3d(128, 1, kernel_size=(2, 3, 3), stride=(1, 1, 1), padding=same, bias=False)\n",
       "      (1): BatchNorm3d(1, eps=1e-05, momentum=0.1, affine=True, track_running_stats=True)\n",
       "      (2): ReLU(inplace=True)\n",
       "    )\n",
       "  )\n",
       "  (s20): ConvBlock_1(\n",
       "    (conv_block_1): Sequential(\n",
       "      (0): Conv3d(1, 32, kernel_size=(2, 3, 3), stride=(1, 1, 1), padding=same, bias=False)\n",
       "      (1): BatchNorm3d(32, eps=1e-05, momentum=0.1, affine=True, track_running_stats=True)\n",
       "      (2): ReLU(inplace=True)\n",
       "    )\n",
       "  )\n",
       "  (s21): Conv3d(32, 1, kernel_size=(2, 3, 3), stride=(1, 1, 1), padding=same)\n",
       ")"
      ]
     },
     "execution_count": 16,
     "metadata": {},
     "output_type": "execute_result"
    }
   ],
   "source": [
    "model = TracNet(n_channels=1).double()\n",
    "model.load_state_dict(torch.load('/home/alexrichard/LRZ Sync+Share/ML in Physics/Models/TracNet104-2022-May-12 19:12:09.pth'), strict=False)\n",
    "model.eval()"
   ]
  },
  {
   "cell_type": "code",
   "execution_count": null,
   "id": "3270b717",
   "metadata": {},
   "outputs": [],
   "source": [
    "# Test data\n",
    "test_dspl_path = '/home/alexrichard/LRZ Sync+Share/ML in Physics/Repos/DL-TFM-main/test/generic/testData104/mini_dspl'\n",
    "test_trac_path = '/home/alexrichard/LRZ Sync+Share/ML in Physics/Repos/DL-TFM-main/test/generic/testData104/mini_trac'"
   ]
  },
  {
   "cell_type": "markdown",
   "id": "8698cc48",
   "metadata": {},
   "source": [
    "Define function to perform predictions with torch model"
   ]
  },
  {
   "cell_type": "code",
   "execution_count": 17,
   "id": "3203e6ba",
   "metadata": {},
   "outputs": [],
   "source": [
    "def predictTrac(features, E):\n",
    "    with torch.no_grad():\n",
    "        S = length(features)\n",
    "        mag = S / 104\n",
    "        conversion = E / (10 * S)\n",
    "        return model(features) * conversion"
   ]
  },
  {
   "cell_type": "code",
   "execution_count": null,
   "id": "3bdf4796",
   "metadata": {},
   "outputs": [],
   "source": [
    "def test(model, loss_fn, dataloader):\n",
    "    with torch.no_grad():\n",
    "        model.eval()\n",
    "\n",
    "        loss = 0.0\n",
    "        rmse = 0.0\n",
    "\n",
    "        # Iterate over data\n",
    "        for xb, yb in dataloader:\n",
    "            xb, yb = xb.to(device), yb.to(device)\n",
    "\n",
    "            pred = model(xb)\n",
    "            epoch_loss = loss_fn(pred, yb)\n",
    "\n",
    "            # statistics\n",
    "            loss += epoch_loss.item()\n",
    "\n",
    "        loss /= len(dataloader.dataset)\n",
    "        rmse = np.sqrt(2 * loss)\n",
    "        \n",
    "    return loss, rmse"
   ]
  },
  {
   "cell_type": "markdown",
   "id": "0f64c825",
   "metadata": {},
   "source": [
    "## 4. Data visualization"
   ]
  },
  {
   "cell_type": "code",
   "execution_count": null,
   "id": "ec3108f0",
   "metadata": {},
   "outputs": [],
   "source": [
    "import shapely as sh"
   ]
  },
  {
   "cell_type": "code",
   "execution_count": null,
   "id": "6ff01fff",
   "metadata": {},
   "outputs": [],
   "source": [
    "def plotDspl(sample):\n",
    "    zipped = np.array(list(zip(sample['brdx'][0], sample['brdy'][0])))  # array with (x,y) pairs of cell border coordinates\n",
    "    polygon = sh.geometry.Polygon(zipped)  # create polygon\n",
    "\n",
    "    interior = np.zeros((sample['dspl'].shape[0], sample['dspl'].shape[1]), dtype=int)  # create all zero matrix\n",
    "    for i in range(len(interior)):  # set all elements in interior matrix to 1 that actually lie within the cell\n",
    "        for j in range(len(interior[i])):\n",
    "            point = Point(i, j)\n",
    "            if polygon.contains(point):\n",
    "                interior[i][j] = 1\n",
    "\n",
    "    # plot polygon using geopandas\n",
    "    p = gpd.GeoSeries(polygon)\n",
    "    p.plot()\n",
    "    plt.show()"
   ]
  }
 ],
 "metadata": {
  "kernelspec": {
   "display_name": "Python 3 (ipykernel)",
   "language": "python",
   "name": "python3"
  },
  "language_info": {
   "codemirror_mode": {
    "name": "ipython",
    "version": 3
   },
   "file_extension": ".py",
   "mimetype": "text/x-python",
   "name": "python",
   "nbconvert_exporter": "python",
   "pygments_lexer": "ipython3",
   "version": "3.8.10"
  }
 },
 "nbformat": 4,
 "nbformat_minor": 5
}
